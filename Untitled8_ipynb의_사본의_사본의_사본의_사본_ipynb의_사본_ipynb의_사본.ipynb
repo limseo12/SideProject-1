{
  "nbformat": 4,
  "nbformat_minor": 0,
  "metadata": {
    "colab": {
      "private_outputs": true,
      "provenance": [],
      "authorship_tag": "ABX9TyPHBOUq2hUnTmS/AE9pCat/",
      "include_colab_link": true
    },
    "kernelspec": {
      "name": "python3",
      "display_name": "Python 3"
    },
    "language_info": {
      "name": "python"
    },
    "accelerator": "GPU",
    "gpuClass": "standard"
  },
  "cells": [
    {
      "cell_type": "markdown",
      "metadata": {
        "id": "view-in-github",
        "colab_type": "text"
      },
      "source": [
        "<a href=\"https://colab.research.google.com/github/limseo12/SideProject-1/blob/main/Untitled8_ipynb%EC%9D%98_%EC%82%AC%EB%B3%B8%EC%9D%98_%EC%82%AC%EB%B3%B8%EC%9D%98_%EC%82%AC%EB%B3%B8%EC%9D%98_%EC%82%AC%EB%B3%B8_ipynb%EC%9D%98_%EC%82%AC%EB%B3%B8_ipynb%EC%9D%98_%EC%82%AC%EB%B3%B8.ipynb\" target=\"_parent\"><img src=\"https://colab.research.google.com/assets/colab-badge.svg\" alt=\"Open In Colab\"/></a>"
      ]
    },
    {
      "cell_type": "code",
      "execution_count": null,
      "metadata": {
        "id": "HzT8cjh2ZBmS"
      },
      "outputs": [],
      "source": [
        "import pandas as pd\n",
        "from google.colab import drive\n",
        "drive.mount('/content/gdrive')"
      ]
    },
    {
      "cell_type": "code",
      "source": [
        "%matplotlib inline\n",
        "%config InlineBackend.figure_format = 'retina'\n",
        "import matplotlib as mpl\n",
        "mpl.rc('font', family='NanumGothic') # 폰트 설정\n",
        "mpl.rc('axes', unicode_minus=False) # 유니코드에서 음수 부호 설정"
      ],
      "metadata": {
        "id": "KQHgAVhDhUOe"
      },
      "execution_count": null,
      "outputs": []
    },
    {
      "cell_type": "code",
      "source": [
        "df1 = pd.read_csv('/content/gdrive/MyDrive/project 아파트 매매가 데이터/아파트(매매)__실거래가_202001~.csv', encoding='cp949')\n",
        "df2 = pd.read_csv('/content/gdrive/MyDrive/project 아파트 매매가 데이터/아파트(매매)__실거래가_202101~202201.csv', encoding='cp949')\n",
        "df3 = pd.read_csv('/content/gdrive/MyDrive/project 아파트 매매가 데이터/아파트(매매)__실거래가_20220314151122.csv', encoding='cp949')\n",
        "df4 = pd.read_csv('/content/gdrive/MyDrive/project 아파트 매매가 데이터/아파트(매매)__실거래가_20220314151204.csv', encoding='cp949')\n",
        "df5 = pd.read_csv('/content/gdrive/MyDrive/project 아파트 매매가 데이터/아파트(매매)__실거래가_20220314151255.csv', encoding='cp949')\n",
        "df6 = pd.read_csv('/content/gdrive/MyDrive/project 아파트 매매가 데이터/아파트(매매)__실거래가_20220314151324.csv', encoding='cp949')\n",
        "df7 = pd.read_csv('/content/gdrive/MyDrive/project 아파트 매매가 데이터/아파트(매매)__실거래가_20220314151356.csv', encoding='cp949')\n",
        "df8 = pd.read_csv('/content/gdrive/MyDrive/project 아파트 매매가 데이터/아파트(매매)__실거래가_20220314151432.csv', encoding='cp949')\n",
        "df9 = pd.read_csv('/content/gdrive/MyDrive/project 아파트 매매가 데이터/아파트(매매)__실거래가_20220314151459.csv', encoding='cp949')\n",
        "df10 = pd.read_csv('/content/gdrive/MyDrive/project 아파트 매매가 데이터/아파트(매매)__실거래가_20220314151526.csv', encoding='cp949')\n",
        "df11 = pd.read_csv('/content/gdrive/MyDrive/project 아파트 매매가 데이터/아파트(매매)__실거래가_20220314151557.csv', encoding='cp949')\n",
        "df = pd.concat([df1, df2, df3, df4, df5, df6,df7,df8,df9,df10,df11])\n",
        "df.shape"
      ],
      "metadata": {
        "id": "nirbM4KfZHwh"
      },
      "execution_count": null,
      "outputs": []
    },
    {
      "cell_type": "code",
      "source": [
        "##전처리\n",
        "a = pd.Series(df['거래금액(만원)'])\n",
        "a = a.str.replace(',', '').astype('int64')\n",
        "df['실거래금액(만원)'] = a\n",
        "##필요없는 컬럼 드랍\n",
        "df = df.drop(['번지','본번','부번','거래금액(만원)','도로명','해제사유발생일','중개사소재지','거래유형'],axis=1)\n",
        "##시군구 에서 서울특별시 제거\n",
        "df['지역'] = df['시군구'].str[6:]\n",
        "##\n",
        "df = df.drop(['시군구'],axis=1)"
      ],
      "metadata": {
        "id": "GuomeDXWZMLC"
      },
      "execution_count": null,
      "outputs": []
    },
    {
      "cell_type": "code",
      "source": [
        "###전용면적 3.3으로 나누어 평으로 바꿔주기\n",
        "df['평수'] = (df['전용면적(㎡)']/3.3).round(1)"
      ],
      "metadata": {
        "id": "RsRVHz_jk2TO"
      },
      "execution_count": null,
      "outputs": []
    },
    {
      "cell_type": "code",
      "source": [
        "df"
      ],
      "metadata": {
        "id": "K8hWjVQBk-S9"
      },
      "execution_count": null,
      "outputs": []
    },
    {
      "cell_type": "code",
      "source": [
        "##컬럼순서변경, 이름변경 \n",
        "df = df[['지역','단지명','전용면적(㎡)','평수','층','계약년월','계약일','건축년도','실거래금액(만원)']]\n",
        "df = df.rename(columns={'전용면적(㎡)':'전용면적','단지명':'아파트명','실거래금액(만원)':'거래금액(만원)'})"
      ],
      "metadata": {
        "id": "AltDRZb2ZTbz"
      },
      "execution_count": null,
      "outputs": []
    },
    {
      "cell_type": "code",
      "source": [
        "##타입 오류가 나서 다시한번 더 변경\n",
        "df = df.astype({'계약년월':'str'})\n",
        "df = df.astype({'계약일':'str'})\n",
        "df = df.astype({'층':'object'})\n",
        "df = df.astype({'지역':'object'})"
      ],
      "metadata": {
        "id": "nezYXTltknIl"
      },
      "execution_count": null,
      "outputs": []
    },
    {
      "cell_type": "code",
      "source": [
        "##### 5년은 신축, 5∼10년은 준신축, 10년 이상은 구축으로 노후도 특성을 만들어 구분 max 2021 min 1961#####\n",
        "노후도=[]\n",
        "for row in df['건축년도']:\n",
        "    # 이 값보다 크면,\n",
        "    if row >= 2017:\n",
        "        노후도.append('신축')\n",
        "    elif row >= 2012:\n",
        "        노후도.append('준신축')\n",
        "    elif row < 2012:\n",
        "        노후도.append('구축')\n",
        "\n",
        "df['노후도'] = 노후도"
      ],
      "metadata": {
        "id": "pZXOvnb7G_DY"
      },
      "execution_count": null,
      "outputs": []
    },
    {
      "cell_type": "code",
      "source": [
        "df.tail()"
      ],
      "metadata": {
        "id": "f-Rt1ZTTIkNC"
      },
      "execution_count": null,
      "outputs": []
    },
    {
      "cell_type": "code",
      "source": [
        "df.dtypes"
      ],
      "metadata": {
        "id": "AcmilkeoZM81"
      },
      "execution_count": null,
      "outputs": []
    },
    {
      "cell_type": "code",
      "source": [
        "##계약날짜로 합치기\n",
        "df['계약날짜'] = df['계약년월']+ df['계약일']"
      ],
      "metadata": {
        "id": "ifyhVPYEV5UY"
      },
      "execution_count": null,
      "outputs": []
    },
    {
      "cell_type": "code",
      "source": [
        "#drop이 오류발생해서 새롭게 컬럼 지정  (y값을 맨 마지막 컬럼에 넣어주는게 인코딩했을때 편하다, 전용면적은 평수로 바꾸었으니 drop)\n",
        "df = df[['지역','아파트명','평수','층','계약날짜','건축년도','노후도','거래금액(만원)']]"
      ],
      "metadata": {
        "id": "ENxniefzZ8Gs"
      },
      "execution_count": null,
      "outputs": []
    },
    {
      "cell_type": "code",
      "source": [
        "df.head()"
      ],
      "metadata": {
        "id": "Gv2-BY95p6GS"
      },
      "execution_count": null,
      "outputs": []
    },
    {
      "cell_type": "code",
      "source": [
        "df.dtypes"
      ],
      "metadata": {
        "id": "T1eYaXYEqKDb"
      },
      "execution_count": null,
      "outputs": []
    },
    {
      "cell_type": "code",
      "source": [
        "#y값 살펴보기\n",
        "import numpy as np\n",
        "import seaborn as sns\n",
        "from scipy import stats\n",
        "import matplotlib.pyplot as plt\n",
        "\n",
        "plt.figure(figsize=(8,6))\n",
        "plt.scatter(range(df.shape[0]), np.sort(df['거래금액(만원)'].values))\n",
        "plt.show()"
      ],
      "metadata": {
        "id": "-lazdiMQYMhu"
      },
      "execution_count": null,
      "outputs": []
    },
    {
      "cell_type": "code",
      "source": [
        "sns.distplot(df['거래금액(만원)'], fit=stats.norm)"
      ],
      "metadata": {
        "id": "QxpH61qTYfx8"
      },
      "execution_count": null,
      "outputs": []
    },
    {
      "cell_type": "code",
      "source": [
        "#로그변환\n",
        "y_target_log = np.log1p(df['거래금액(만원)'])\n",
        "sns.distplot(np.log1p(df['거래금액(만원)']), fit=stats.norm)"
      ],
      "metadata": {
        "id": "GLnCowJQZOYi"
      },
      "execution_count": null,
      "outputs": []
    },
    {
      "cell_type": "code",
      "source": [
        "df.dtypes"
      ],
      "metadata": {
        "id": "cQWUeivYLidT"
      },
      "execution_count": null,
      "outputs": []
    },
    {
      "cell_type": "code",
      "source": [
        "# 필요한 라이브러리를 설치합니다.\n",
        "#!pip install scikit-learn==0.24.2\n",
        "#!pip install category_encoders\n",
        "# 라벨인코딩후 원-핫 인코딩을 적용하려니 세션이 다운된다.\n",
        "#원핫 인코딩만 하려해도 데이터크기가 너무 커 램이 부족하여 되지않는다.(colab 램부족)\n",
        "# get_dummies를 이용하여 원핫 인코딩.\n",
        "#df_ohe = df[['지역','아파트명','평수','층','계약날짜','건축년도','노후도','거래금액(만원)']]\n",
        "#pd.get_dummies(df_ohe)"
      ],
      "metadata": {
        "id": "d3Uqu2-5_S_r"
      },
      "execution_count": null,
      "outputs": []
    },
    {
      "cell_type": "code",
      "source": [
        "###라벨 인코더\n",
        "from sklearn.preprocessing import LabelEncoder\n",
        "\n",
        "le = LabelEncoder()\n",
        "le.fit(df['지역'])\n",
        "df['지역_le'] = le.transform(df['지역'])\n",
        "##아파트명\n",
        "le.fit(df['아파트명'])\n",
        "df['아파트명_le'] = le.transform(df['아파트명'])\n",
        "##평수\n",
        "le.fit(df['평수'])\n",
        "df['평수_le'] = le.transform(df['평수'])\n",
        "##계약날짜\n",
        "le.fit(df['계약날짜'])\n",
        "df['계약날짜_le'] = le.transform(df['계약날짜'])\n",
        "##층\n",
        "le.fit(df['층'])\n",
        "df['층_le'] = le.transform(df['층'])\n",
        "##건축년도\n",
        "le.fit(df['건축년도'])\n",
        "df['건축년도_le'] = le.transform(df['건축년도'])\n",
        "##노후도\n",
        "le.fit(df['노후도'])\n",
        "df['노후도_le'] = le.transform(df['노후도'])"
      ],
      "metadata": {
        "id": "3nCUUHa3TGss"
      },
      "execution_count": null,
      "outputs": []
    },
    {
      "cell_type": "code",
      "source": [
        "df_le = df[['지역_le',\t'아파트명_le',\t'평수_le',\t'계약날짜_le',\t'층_le',\t'건축년도_le',\t'노후도_le']]\n",
        "df_le.head()"
      ],
      "metadata": {
        "id": "GrZzmC7pbJ_b"
      },
      "execution_count": null,
      "outputs": []
    },
    {
      "cell_type": "code",
      "source": [
        "##나누기\n",
        "import numpy as np\n",
        "from sklearn.model_selection import train_test_split\n",
        "\n",
        "#y_target_log = y_target_log\n",
        "#y값은 이미 drop 된 x_features\n",
        "X_features = df_le \n",
        "\n",
        "X_train, X_test, y_train, y_test = train_test_split(X_features, y_target_log, test_size=0.2)"
      ],
      "metadata": {
        "id": "ZX1ofKQIUovE"
      },
      "execution_count": null,
      "outputs": []
    },
    {
      "cell_type": "code",
      "source": [
        "from sklearn.metrics import mean_squared_error\n",
        "##평가지표\n",
        "def get_rmse(model):\n",
        "    pred = model.predict(X_test)\n",
        "    mse = mean_squared_error(y_test , pred)\n",
        "    rmse = np.sqrt(mse) #mse에 루트\n",
        "    print(f'{model.__class__.__name__} 로그 변환된 RMSE: {np.round(rmse, 4)}')\n",
        "    return rmse\n",
        "\n",
        "def get_rmses(models):\n",
        "    rmses = []\n",
        "    for model in models:\n",
        "        rmse = get_rmse(model)\n",
        "        rmses.append(rmse)\n",
        "    return rmses\n",
        "\n",
        "\n",
        "# 상위, 하위 10개 coefficients 추출\n",
        "\n",
        "def get_top_bottom_coef(model, n=10):\n",
        "    coef = pd.Series(model.coef_, index=X_features.columns)\n",
        "    \n",
        "    coef_high = coef.sort_values(ascending=False).head(n)\n",
        "    coef_low = coef.sort_values(ascending=False).tail(n)\n",
        "    return coef_high, coef_low\n",
        "##\n",
        "\n",
        "# 회귀 계수 시각화\n",
        "\n",
        "def visualize_coefficient(models, xlim=None):\n",
        "    fig, axs = plt.subplots(3,1, figsize=(24,20))\n",
        "    fig.tight_layout()\n",
        "    \n",
        "    for i, model in enumerate(models):\n",
        "        coef_high, coef_low = get_top_bottom_coef(model)\n",
        "        coef_concat = pd.concat( [coef_high , coef_low], axis=0 )\n",
        "        \n",
        "        axs[i].set_title(model.__class__.__name__ , size=25, x= 0.9, y= 0.1)\n",
        "        # axs[i].tick_params(axis=\"y\", direction=\"in\", pad=-120) # tick label 위치 조정\n",
        "        \n",
        "        # font size 조정\n",
        "        for label in (axs[i].get_xticklabels() + axs[i].get_yticklabels()):\n",
        "            label.set_fontsize(22)\n",
        "        \n",
        "        # x축 범위\n",
        "        if xlim:\n",
        "            axs[i].set_xlim(xlim)\n",
        "        \n",
        "        sns.barplot(x=coef_concat.values, y=coef_concat.index , ax=axs[i])\n",
        "\n",
        "def get_top_features(model):\n",
        "    ftr_importances_values = model.feature_importances_\n",
        "    ftr_importances = pd.Series(ftr_importances_values, index=X_features.columns  )\n",
        "    ftr_top20 = ftr_importances.sort_values(ascending=False)[:20]\n",
        "    return ftr_top20\n",
        "        \n",
        "def visualize_ftr_importances(models):\n",
        "\n",
        "    fig, axs = plt.subplots(figsize=(24,10),nrows=1, ncols=2)\n",
        "    fig.tight_layout() \n",
        "\n",
        "    for i_num, model in enumerate(models):\n",
        "\n",
        "        ftr_top20 = get_top_features(model)\n",
        "        axs[i_num].set_title(model.__class__.__name__+' Feature Importances', size=25)\n",
        "\n",
        "        for label in (axs[i_num].get_xticklabels() + axs[i_num].get_yticklabels()):\n",
        "            label.set_fontsize(22)\n",
        "        sns.barplot(x=ftr_top20.values, y=ftr_top20.index , ax=axs[i_num])\n",
        "\n",
        "        \n",
        "# 교차검증\n",
        "\n",
        "from sklearn.model_selection import cross_val_score\n",
        "\n",
        "def get_avg_rmse_cv(models):\n",
        "    \n",
        "    for model in models:\n",
        "        \n",
        "        rmse_list = np.sqrt(-cross_val_score(model, X_features, y_target_log,\n",
        "                                            scoring='neg_mean_squared_error', cv=5))\n",
        "        \n",
        "        rmse_avg = np.mean(rmse_list)\n",
        "        print('\\n{0} CV RMSE 리스트: {1}'.format(model.__class__.__name__, np.round(rmse_list, 3)))\n",
        "        print('{0} CV 평균 RMSE: {1}'.format(model.__class__.__name__, np.round(rmse_avg, 3)))\n",
        "        \n",
        "# GridSearchCV\n",
        "\n",
        "from sklearn.model_selection import GridSearchCV\n",
        "\n",
        "def get_best_params(model, params):\n",
        "    grid_model = GridSearchCV(model, param_grid=params,\n",
        "                             scoring='neg_mean_squared_error', cv=5)\n",
        "    grid_model.fit(X_features, y_target_log)\n",
        "    rmse = np.sqrt(-1*grid_model.best_score_)\n",
        "    print('{0} 5 CV best average RMSE: {1}, best alpha: {2}'.format(model.__class__.__name__, np.round(rmse, 4), grid_model.best_params_))\n",
        "    \n",
        "    return grid_model.best_estimator_"
      ],
      "metadata": {
        "id": "MnnHJcgO4elH"
      },
      "execution_count": null,
      "outputs": []
    },
    {
      "cell_type": "code",
      "source": [
        "from sklearn.linear_model import LinearRegression, Ridge, Lasso\n",
        "\n",
        "lr_reg = LinearRegression()\n",
        "lr_reg.fit(X_train, y_train)\n",
        "\n",
        "ridge_reg = Ridge()\n",
        "ridge_reg.fit(X_train, y_train)\n",
        "\n",
        "lasso_reg = Lasso()\n",
        "lasso_reg.fit(X_train, y_train)\n",
        "\n",
        "models = [lr_reg, ridge_reg, lasso_reg]\n",
        "get_rmses(models)"
      ],
      "metadata": {
        "id": "8mosZEDst7Pb"
      },
      "execution_count": null,
      "outputs": []
    },
    {
      "cell_type": "code",
      "source": [
        "#rmse는 Linear과 Ridge가 같은 값을가지며 가장 낮고 Lasso가 가장 높다"
      ],
      "metadata": {
        "id": "v7rze67YfkPX"
      },
      "execution_count": null,
      "outputs": []
    },
    {
      "cell_type": "code",
      "source": [
        "visualize_coefficient(models)"
      ],
      "metadata": {
        "id": "v8f00yiEt099"
      },
      "execution_count": null,
      "outputs": []
    },
    {
      "cell_type": "code",
      "source": [
        "# cross_val_score\n",
        "\n",
        "get_avg_rmse_cv(models)"
      ],
      "metadata": {
        "id": "zAeemt1U5iEj"
      },
      "execution_count": null,
      "outputs": []
    },
    {
      "cell_type": "code",
      "source": [
        "# GridSearchCV\n",
        "\n",
        "ridge_params = {'alpha':[0.05, 0.1, 1, 5,8, 10, 12, 15, 20]}\n",
        "lasso_params = {'alpha':[0.001, 0.005, 0.008, 0.05, 0.03, 0.1, 0.5, 1, 5, 10]}\n",
        "\n",
        "get_best_params(ridge_reg, ridge_params)\n",
        "get_best_params(lasso_reg, lasso_params)"
      ],
      "metadata": {
        "id": "A8rCMdu05j9T"
      },
      "execution_count": null,
      "outputs": []
    },
    {
      "cell_type": "code",
      "source": [
        "# train model with best alpha\n",
        "\n",
        "lr_reg = LinearRegression()\n",
        "lr_reg.fit(X_train, y_train)\n",
        "\n",
        "ridge_reg = Ridge(alpha=0.1)\n",
        "ridge_reg.fit(X_train, y_train)\n",
        "\n",
        "lasso_reg = Lasso(alpha=0.001)\n",
        "lasso_reg.fit(X_train, y_train)\n",
        "\n",
        "models = [lr_reg, ridge_reg, lasso_reg]\n",
        "get_rmses(models)\n",
        "visualize_coefficient(models)"
      ],
      "metadata": {
        "id": "xB1e8Gt05pXg"
      },
      "execution_count": null,
      "outputs": []
    },
    {
      "cell_type": "code",
      "source": [
        "from xgboost import XGBRegressor\n",
        "\n",
        "xgb_params = {'n_estimators':[1000]}\n",
        "xgb_reg = XGBRegressor(objective='reg:squarederror',n_estimators=1000, learning_rate=0.05, colsample_bytree=0.5, subsample=0.8)\n",
        "get_best_params(xgb_reg, xgb_params)"
      ],
      "metadata": {
        "id": "LKL4xMuow3zi"
      },
      "execution_count": null,
      "outputs": []
    },
    {
      "cell_type": "code",
      "source": [
        "from lightgbm import LGBMRegressor\n",
        "\n",
        "lgbm_params = {'n_estimators':[1000]}\n",
        "lgbm_reg = LGBMRegressor(n_estimators=1000, learning_rate=0.05, num_leaves=4,\n",
        "                        subsample=0.6, colsample_bytree=0.4, reg_lambda=10, n_jobs=-1)\n",
        "get_best_params(lgbm_reg, lgbm_params)"
      ],
      "metadata": {
        "id": "keNpDFejw6wt"
      },
      "execution_count": null,
      "outputs": []
    },
    {
      "cell_type": "code",
      "source": [
        "# train model with best parameters\n",
        "\n",
        "best_xgb = get_best_params(xgb_reg, xgb_params)\n",
        "best_lgbm = get_best_params(lgbm_reg, lgbm_params)\n",
        "\n",
        "models = [best_xgb, best_lgbm]\n",
        "visualize_ftr_importances(models)"
      ],
      "metadata": {
        "id": "ZYE3pbImw-GF"
      },
      "execution_count": null,
      "outputs": []
    },
    {
      "cell_type": "code",
      "source": [
        "##외적요소 feature '학군, 역세권, 브랜드 인지도, 지하철거리등을 추가하면 좋을듯 하다."
      ],
      "metadata": {
        "id": "4XnUCjVFfNlK"
      },
      "execution_count": null,
      "outputs": []
    }
  ]
}