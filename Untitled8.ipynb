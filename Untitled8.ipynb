{
  "nbformat": 4,
  "nbformat_minor": 0,
  "metadata": {
    "colab": {
      "name": "Untitled8.ipynb",
      "private_outputs": true,
      "provenance": [],
      "authorship_tag": "ABX9TyP6E+GUzZ9+29pgcV4/kTzt",
      "include_colab_link": true
    },
    "kernelspec": {
      "name": "python3",
      "display_name": "Python 3"
    },
    "language_info": {
      "name": "python"
    }
  },
  "cells": [
    {
      "cell_type": "markdown",
      "metadata": {
        "id": "view-in-github",
        "colab_type": "text"
      },
      "source": [
        "<a href=\"https://colab.research.google.com/github/limseo12/project/blob/main/Untitled8.ipynb\" target=\"_parent\"><img src=\"https://colab.research.google.com/assets/colab-badge.svg\" alt=\"Open In Colab\"/></a>"
      ]
    },
    {
      "cell_type": "code",
      "execution_count": null,
      "metadata": {
        "id": "HzT8cjh2ZBmS"
      },
      "outputs": [],
      "source": [
        "import pandas as pd\n",
        "from google.colab import drive\n",
        "drive.mount('/content/gdrive')"
      ]
    },
    {
      "cell_type": "code",
      "source": [
        "df1 = pd.read_csv('/content/gdrive/MyDrive/project 아파트 매매가 데이터/아파트(매매)__실거래가_202001~.csv', encoding='cp949')\n",
        "df2 = pd.read_csv('/content/gdrive/MyDrive/project 아파트 매매가 데이터/아파트(매매)__실거래가_202101~202201.csv', encoding='cp949')\n",
        "df3 = pd.read_csv('/content/gdrive/MyDrive/project 아파트 매매가 데이터/아파트(매매)__실거래가_20220314151122.csv', encoding='cp949')\n",
        "df4 = pd.read_csv('/content/gdrive/MyDrive/project 아파트 매매가 데이터/아파트(매매)__실거래가_20220314151204.csv', encoding='cp949')\n",
        "df5 = pd.read_csv('/content/gdrive/MyDrive/project 아파트 매매가 데이터/아파트(매매)__실거래가_20220314151255.csv', encoding='cp949')\n",
        "df6 = pd.read_csv('/content/gdrive/MyDrive/project 아파트 매매가 데이터/아파트(매매)__실거래가_20220314151324.csv', encoding='cp949')\n",
        "df7 = pd.read_csv('/content/gdrive/MyDrive/project 아파트 매매가 데이터/아파트(매매)__실거래가_20220314151356.csv', encoding='cp949')\n",
        "df8 = pd.read_csv('/content/gdrive/MyDrive/project 아파트 매매가 데이터/아파트(매매)__실거래가_20220314151432.csv', encoding='cp949')\n",
        "df9 = pd.read_csv('/content/gdrive/MyDrive/project 아파트 매매가 데이터/아파트(매매)__실거래가_20220314151459.csv', encoding='cp949')\n",
        "df10 = pd.read_csv('/content/gdrive/MyDrive/project 아파트 매매가 데이터/아파트(매매)__실거래가_20220314151526.csv', encoding='cp949')\n",
        "df11 = pd.read_csv('/content/gdrive/MyDrive/project 아파트 매매가 데이터/아파트(매매)__실거래가_20220314151557.csv', encoding='cp949')\n",
        "df = pd.concat([df1, df2, df3, df4, df5, df6,df7,df8,df9,df10,df11])\n",
        "df.shape"
      ],
      "metadata": {
        "id": "nirbM4KfZHwh"
      },
      "execution_count": null,
      "outputs": []
    },
    {
      "cell_type": "code",
      "source": [
        "##전처리\n",
        "a = pd.Series(df['거래금액(만원)'])\n",
        "a = a.str.replace(',', '').astype('int64')\n",
        "df['실거래금액(만원)'] = a\n",
        "##필요없는 컬럼 드랍\n",
        "df = df.drop(['번지','본번','부번','거래금액(만원)','도로명','해제사유발생일','중개사소재지','거래유형'],axis=1)\n",
        "##시군구 에서 서울특별시 제거\n",
        "df['지역'] = df['시군구'].str[5:]\n",
        "##\n",
        "df.drop(['시군구'],axis=1)"
      ],
      "metadata": {
        "id": "GuomeDXWZMLC"
      },
      "execution_count": null,
      "outputs": []
    },
    {
      "cell_type": "code",
      "source": [
        "###전용면적 3.3으로 나누어 평으로 바꿔주기\n",
        "df['평수'] = (df['전용면적(㎡)']/3.3).round(1)"
      ],
      "metadata": {
        "id": "RsRVHz_jk2TO"
      },
      "execution_count": null,
      "outputs": []
    },
    {
      "cell_type": "code",
      "source": [
        "df"
      ],
      "metadata": {
        "id": "K8hWjVQBk-S9"
      },
      "execution_count": null,
      "outputs": []
    },
    {
      "cell_type": "code",
      "source": [
        "##컬럼순서변경, 이름변경\n",
        "df = df[['지역','단지명','전용면적(㎡)','평수','층','실거래금액(만원)','계약년월','계약일','건축년도']]\n",
        "df = df.rename(columns={'전용면적(㎡)':'전용면적','실거래금액(만원)':'금액(만원)','단지명':'아파트명'})"
      ],
      "metadata": {
        "id": "AltDRZb2ZTbz"
      },
      "execution_count": null,
      "outputs": []
    },
    {
      "cell_type": "code",
      "source": [
        "df = df.astype({'계약년월':'object'})\n",
        "df = df.astype({'계약일':'object'})"
      ],
      "metadata": {
        "id": "nezYXTltknIl"
      },
      "execution_count": null,
      "outputs": []
    },
    {
      "cell_type": "code",
      "source": [
        "df.dtypes"
      ],
      "metadata": {
        "id": "T1eYaXYEqKDb"
      },
      "execution_count": null,
      "outputs": []
    },
    {
      "cell_type": "code",
      "source": [
        "###df1 = pd.concat(df['계약일']+df['계약년월'])"
      ],
      "metadata": {
        "id": "Gv2-BY95p6GS"
      },
      "execution_count": null,
      "outputs": []
    },
    {
      "cell_type": "code",
      "source": [
        "df"
      ],
      "metadata": {
        "id": "LUmWaxbXpDZc"
      },
      "execution_count": null,
      "outputs": []
    },
    {
      "cell_type": "code",
      "source": [
        "## df['계약'] = pd.concat([df['계약년월'], df['계약일']], axis=1)"
      ],
      "metadata": {
        "id": "XQOnZlUZZZqY"
      },
      "execution_count": null,
      "outputs": []
    },
    {
      "cell_type": "code",
      "source": [
        "### feature 평당 매매가격 추가하기.\n",
        "##외적요소 feature '학군, 역세권, 브랜드 인지도"
      ],
      "metadata": {
        "id": "4XnUCjVFfNlK"
      },
      "execution_count": null,
      "outputs": []
    }
  ]
}