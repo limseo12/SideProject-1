{
  "nbformat": 4,
  "nbformat_minor": 0,
  "metadata": {
    "colab": {
      "name": "Untitled8.ipynb의 사본의 사본의 사본",
      "private_outputs": true,
      "provenance": [],
      "authorship_tag": "ABX9TyOhtNWDYAqx8aYETQyaYk9T",
      "include_colab_link": true
    },
    "kernelspec": {
      "name": "python3",
      "display_name": "Python 3"
    },
    "language_info": {
      "name": "python"
    }
  },
  "cells": [
    {
      "cell_type": "markdown",
      "metadata": {
        "id": "view-in-github",
        "colab_type": "text"
      },
      "source": [
        "<a href=\"https://colab.research.google.com/github/limseo12/project/blob/main/Untitled8_ipynb%EC%9D%98_%EC%82%AC%EB%B3%B8%EC%9D%98_%EC%82%AC%EB%B3%B8%EC%9D%98_%EC%82%AC%EB%B3%B8.ipynb\" target=\"_parent\"><img src=\"https://colab.research.google.com/assets/colab-badge.svg\" alt=\"Open In Colab\"/></a>"
      ]
    },
    {
      "cell_type": "code",
      "execution_count": null,
      "metadata": {
        "id": "HzT8cjh2ZBmS"
      },
      "outputs": [],
      "source": [
        "import pandas as pd\n",
        "from google.colab import drive\n",
        "drive.mount('/content/gdrive')"
      ]
    },
    {
      "cell_type": "code",
      "source": [
        "df1 = pd.read_csv('/content/gdrive/MyDrive/project 아파트 매매가 데이터/아파트(매매)__실거래가_202001~.csv', encoding='cp949')\n",
        "df2 = pd.read_csv('/content/gdrive/MyDrive/project 아파트 매매가 데이터/아파트(매매)__실거래가_202101~202201.csv', encoding='cp949')\n",
        "df3 = pd.read_csv('/content/gdrive/MyDrive/project 아파트 매매가 데이터/아파트(매매)__실거래가_20220314151122.csv', encoding='cp949')\n",
        "df4 = pd.read_csv('/content/gdrive/MyDrive/project 아파트 매매가 데이터/아파트(매매)__실거래가_20220314151204.csv', encoding='cp949')\n",
        "df5 = pd.read_csv('/content/gdrive/MyDrive/project 아파트 매매가 데이터/아파트(매매)__실거래가_20220314151255.csv', encoding='cp949')\n",
        "df6 = pd.read_csv('/content/gdrive/MyDrive/project 아파트 매매가 데이터/아파트(매매)__실거래가_20220314151324.csv', encoding='cp949')\n",
        "df7 = pd.read_csv('/content/gdrive/MyDrive/project 아파트 매매가 데이터/아파트(매매)__실거래가_20220314151356.csv', encoding='cp949')\n",
        "df8 = pd.read_csv('/content/gdrive/MyDrive/project 아파트 매매가 데이터/아파트(매매)__실거래가_20220314151432.csv', encoding='cp949')\n",
        "df9 = pd.read_csv('/content/gdrive/MyDrive/project 아파트 매매가 데이터/아파트(매매)__실거래가_20220314151459.csv', encoding='cp949')\n",
        "df10 = pd.read_csv('/content/gdrive/MyDrive/project 아파트 매매가 데이터/아파트(매매)__실거래가_20220314151526.csv', encoding='cp949')\n",
        "df11 = pd.read_csv('/content/gdrive/MyDrive/project 아파트 매매가 데이터/아파트(매매)__실거래가_20220314151557.csv', encoding='cp949')\n",
        "df = pd.concat([df1, df2, df3, df4, df5, df6,df7,df8,df9,df10,df11])\n",
        "df.shape"
      ],
      "metadata": {
        "id": "nirbM4KfZHwh"
      },
      "execution_count": null,
      "outputs": []
    },
    {
      "cell_type": "code",
      "source": [
        "##전처리\n",
        "a = pd.Series(df['거래금액(만원)'])\n",
        "a = a.str.replace(',', '').astype('int64')\n",
        "df['실거래금액(만원)'] = a\n",
        "##필요없는 컬럼 드랍\n",
        "df = df.drop(['번지','본번','부번','거래금액(만원)','도로명','해제사유발생일','중개사소재지','거래유형'],axis=1)\n",
        "##시군구 에서 서울특별시 제거\n",
        "df['지역'] = df['시군구'].str[6:]\n",
        "##\n",
        "df.drop(['시군구'],axis=1)"
      ],
      "metadata": {
        "id": "GuomeDXWZMLC"
      },
      "execution_count": null,
      "outputs": []
    },
    {
      "cell_type": "code",
      "source": [
        "###전용면적 3.3으로 나누어 평으로 바꿔주기\n",
        "df['평수'] = (df['전용면적(㎡)']/3.3).round(1)"
      ],
      "metadata": {
        "id": "RsRVHz_jk2TO"
      },
      "execution_count": null,
      "outputs": []
    },
    {
      "cell_type": "code",
      "source": [
        "df"
      ],
      "metadata": {
        "id": "K8hWjVQBk-S9"
      },
      "execution_count": null,
      "outputs": []
    },
    {
      "cell_type": "code",
      "source": [
        "##컬럼순서변경, 이름변경\n",
        "df = df[['지역','단지명','전용면적(㎡)','평수','층','실거래금액(만원)','계약년월','계약일','건축년도']]\n",
        "df = df.rename(columns={'전용면적(㎡)':'전용면적','실거래금액(만원)':'거래금액(만원)','단지명':'아파트명'})"
      ],
      "metadata": {
        "id": "AltDRZb2ZTbz"
      },
      "execution_count": null,
      "outputs": []
    },
    {
      "cell_type": "code",
      "source": [
        "df = df.astype({'계약년월':'object'})\n",
        "df = df.astype({'계약일':'object'})\n",
        "df = df.astype({'층':'object'})"
      ],
      "metadata": {
        "id": "nezYXTltknIl"
      },
      "execution_count": null,
      "outputs": []
    },
    {
      "cell_type": "code",
      "source": [
        "#####다중 선형회귀를 위한 특성추가 구축 신축 분리 #####\n",
        "##### 5년은 신축, 5∼10년은 준신축, 10년 이상은 구축으로 노후도 특성을 만들어 구분 max 2021 min 1961#####\n",
        "df['건축년도'].describe()"
      ],
      "metadata": {
        "id": "QZLM9S-X0wpN"
      },
      "execution_count": null,
      "outputs": []
    },
    {
      "cell_type": "code",
      "source": [
        "df['노후도'] = ([df['건축년도'] >=2017, ] '신축')\n",
        "df['노후도'] = ([df['건축년도'] >=2012 < 2017 ] '준신축')\n",
        "df['노후도'] = ([df['건축년도'] <2012, ] '구축')"
      ],
      "metadata": {
        "id": "elk_-VHG17oL"
      },
      "execution_count": null,
      "outputs": []
    },
    {
      "cell_type": "code",
      "source": [
        "###df1 = pd.concat(df['계약일']+df['계약년월'])"
      ],
      "metadata": {
        "id": "Gv2-BY95p6GS"
      },
      "execution_count": null,
      "outputs": []
    },
    {
      "cell_type": "code",
      "source": [
        "df.dtypes"
      ],
      "metadata": {
        "id": "T1eYaXYEqKDb"
      },
      "execution_count": null,
      "outputs": []
    },
    {
      "cell_type": "code",
      "source": [
        "df.describe()"
      ],
      "metadata": {
        "id": "LUmWaxbXpDZc"
      },
      "execution_count": null,
      "outputs": []
    },
    {
      "cell_type": "code",
      "source": [
        "import matplotlib.pyplot as plt\n",
        "import seaborn as sns\n",
        "%matplotlib inline\n",
        "\n",
        "sns.distplot(df['거래금액(만원)'],kde = True)    ##확률밀도함수\n",
        "plt.axvline(df['거래금액(만원)'].mean(), color = 'blue')    ##평균\n",
        "plt.axvline(df['거래금액(만원)'].median(), color = 'red')   ##중간값\n"
      ],
      "metadata": {
        "id": "EBvt2zOWGTfS"
      },
      "execution_count": null,
      "outputs": []
    },
    {
      "cell_type": "code",
      "source": [
        "##서울특별시의 집값 상승률을 보여주기위해 서울특별시 feature 만들기.\n",
        "plt.figure(figsize=(100, 4))\n",
        "sns.pointplot(data=df, x=\"계약년월\", y=\"거래금액(만원)\", hue=\"지역\")\n",
        "plt.legend(bbox_to_anchor=(1, 1))"
      ],
      "metadata": {
        "id": "bmGgG85xoJS2"
      },
      "execution_count": null,
      "outputs": []
    },
    {
      "cell_type": "code",
      "source": [
        "###### scikit-learn 을 이용하지 않고 단순 선형 회귀 모델 해보기.#####\n",
        "\n"
      ],
      "metadata": {
        "id": "g7WQvFT6S92f"
      },
      "execution_count": null,
      "outputs": []
    },
    {
      "cell_type": "code",
      "source": [
        "x = df['지역']\n",
        "y = df['거래금액(만원)']\n",
        "\n",
        "predict = df['거래금액(만원)'].mean()\n",
        "errors = predict - df['거래금액(만원)']\n",
        "mean_absolute_error = errors.abs().mean()\n",
        "\n",
        "sns.lineplot(x=x, y=predict, color='red')\n",
        "sns.scatterplot(x=x, y=y, color='blue')"
      ],
      "metadata": {
        "id": "cAdb8MtMUf5M"
      },
      "execution_count": null,
      "outputs": []
    },
    {
      "cell_type": "code",
      "source": [
        "##단순선형회귀모델로 지역별'서울시 평균가격'의 비교 + MAE 결과\n",
        "print(f'예측한 주택 가격 평균이${predict:,.0f}이며 절대평균에러가 ${mean_absolute_error:,.0f}임을 확인')"
      ],
      "metadata": {
        "id": "d9LOJ3rsXJ7n"
      },
      "execution_count": null,
      "outputs": []
    },
    {
      "cell_type": "code",
      "source": [
        "##아파트 평수와 건축년도와 가격은 연관이 있을것이고 층수와도 연관이 있는지 살펴보았다\n",
        "plt.scatter(df['층'], df['거래금액(만원)']);"
      ],
      "metadata": {
        "id": "59INVNG-X2wR"
      },
      "execution_count": null,
      "outputs": []
    },
    {
      "cell_type": "code",
      "source": [
        "# 층수와도 연관이 있는지 box plot 으로 다시 살펴보았다\n",
        "fig = plt.figure(figsize = (200, 50))\n",
        "sns.boxplot(x='거래금액(만원)', y='층', data=df)"
      ],
      "metadata": {
        "id": "z70u8fnpnFss"
      },
      "execution_count": null,
      "outputs": []
    },
    {
      "cell_type": "code",
      "source": [
        "sns.set(style='whitegrid', context='notebook')\n",
        "cols = ['지역', '층', '거래금액(만원)']\n",
        "sns.pairplot(df[cols], height=2);"
      ],
      "metadata": {
        "id": "GCHmoL93ZDPo"
      },
      "execution_count": null,
      "outputs": []
    },
    {
      "cell_type": "code",
      "source": [
        "###scikit_learn 을 이용하여 단순 선형 회귀 모델 만들기\n",
        "\n",
        "from sklearn.linear_model import LinearRegression\n",
        "from sklearn.preprocessing import OneHotEncoder\n",
        "\n",
        "ohe = OneHotEncoder(sparse=False)\n",
        "train_ohe = ohe.fit_transform(df[['지역']])\n",
        "train_ohe\n",
        "\n",
        "\n",
        "model = LinearRegression()\n",
        "feature = train_ohe\n",
        "target = df['거래금액(만원)']\n",
        "X_train = feature\n",
        "y_train = target\n",
        "\n",
        "## 모델 학습 (fit)\n",
        "model.fit(X_train, y_train)\n",
        "LinearRegression()"
      ],
      "metadata": {
        "id": "VHyuCHZ6aPZB"
      },
      "execution_count": null,
      "outputs": []
    },
    {
      "cell_type": "code",
      "source": [
        "print(X_train)"
      ],
      "metadata": {
        "id": "e79LAHOQil11"
      },
      "execution_count": null,
      "outputs": []
    },
    {
      "cell_type": "code",
      "source": [
        "X_test = [['강남구']]]\n",
        "y_pred = model.predict(X_test)\n",
        "\n"
      ],
      "metadata": {
        "id": "0QkCGQ2jhN3f"
      },
      "execution_count": null,
      "outputs": []
    },
    {
      "cell_type": "code",
      "source": [
        "######다중선형회귀를 이용하여 모델 만들기 #####\n",
        "\n",
        "model = None\n",
        "feature = None\n",
        "predict = None"
      ],
      "metadata": {
        "id": "hq46vOQYj-KU"
      },
      "execution_count": null,
      "outputs": []
    },
    {
      "cell_type": "code",
      "source": [
        "####사이킷런 이용하지 않고 데이터 나누기\n",
        "train = df.sample(frac=0.75,random_state=1)\n",
        "test = df.drop(train.index)"
      ],
      "metadata": {
        "id": "lpkPygutkpOS"
      },
      "execution_count": null,
      "outputs": []
    },
    {
      "cell_type": "code",
      "source": [
        "#### 원본, train, test 길이 비교\n",
        "len(df), len(train), len(test)"
      ],
      "metadata": {
        "id": "lmqSIOf8pWkY"
      },
      "execution_count": null,
      "outputs": []
    },
    {
      "cell_type": "code",
      "source": [
        "# 타겟 평균값\n",
        "train['거래금액(만원)'].mean()\n",
        "#label 정의\n",
        "target = '거래금액(만원)'\n",
        "y_train = train[target]\n",
        "y_test = test[target]"
      ],
      "metadata": {
        "id": "gaBduxJ-p_2S"
      },
      "execution_count": null,
      "outputs": []
    },
    {
      "cell_type": "code",
      "source": [
        "#평균값으로 예측\n",
        "predict = y_train.mean()\n",
        "predict"
      ],
      "metadata": {
        "id": "BKJOXXlGqAMs"
      },
      "execution_count": null,
      "outputs": []
    },
    {
      "cell_type": "code",
      "source": [
        "##기준모델로 훈련 에러(MAE) 계산\n",
        "from sklearn.metrics import mean_absolute_error\n",
        "y_pred = [predict] * len(y_train)\n",
        "mae = mean_absolute_error(y_train, y_pred)\n",
        "\n",
        "print(f'훈련 에러: {mae:2f}')"
      ],
      "metadata": {
        "id": "3Cv9w7i5yDed"
      },
      "execution_count": null,
      "outputs": []
    },
    {
      "cell_type": "code",
      "source": [
        "##테스트 에러(MAE)\n",
        "y_pred = [predict] * len(y_test)\n",
        "mae = mean_absolute_error(y_test, y_pred)\n",
        "print(f'테스트 에러: {mae:.2f}')"
      ],
      "metadata": {
        "id": "SjUqj2W5ym-9"
      },
      "execution_count": null,
      "outputs": []
    },
    {
      "cell_type": "code",
      "source": [
        "############################"
      ],
      "metadata": {
        "id": "VHoVNSNAzCba"
      },
      "execution_count": null,
      "outputs": []
    },
    {
      "cell_type": "code",
      "source": [
        "#####년도별로 구축 아파트와 신축아파트로 분리후 분리된 특성과 지역특성 2가지로 가격 비교#####"
      ],
      "metadata": {
        "id": "hLcUJ00-gTme"
      },
      "execution_count": null,
      "outputs": []
    },
    {
      "cell_type": "code",
      "source": [
        "import matplotlib.pyplot as plt\n",
        "import numpy as np\n",
        "from matplotlib import style\n",
        "\n",
        "style.use('seaborn-talk')\n",
        "fig = plt.figure()\n",
        "\n",
        "##for 3d plot\n",
        "ax = fog.gca(projection= '3d')\n",
        "\n",
        "ax.scatter(train['노후도'], train['지역'], train['거래금액(만원)'])\n",
        "ax.set_xlabel('지역', labelpad=12)\n",
        "ax.set_ylabel('노후도', labelpad= 10)\n",
        "ax.set_zlabel('거래금액(만원)', fontsize=15)\n",
        "plt.show()\n",
        "\n",
        "# 간단히그리기\n",
        "# px.scatter_3d(\n",
        "#    train,\n",
        "#    x='지역'\n",
        "#    y='노후도'\n",
        "#    z='거래금액(만원)'\n",
        "#     )"
      ],
      "metadata": {
        "id": "IFbO6FtbzC_T"
      },
      "execution_count": null,
      "outputs": []
    },
    {
      "cell_type": "code",
      "source": [
        "## 다중모델 학습 특성\n",
        "features = ['지역','노후도']\n",
        "X_train = train[features]\n",
        "X_test = test[features]"
      ],
      "metadata": {
        "id": "LjCtEU2q5Mh3"
      },
      "execution_count": null,
      "outputs": []
    },
    {
      "cell_type": "code",
      "source": [
        "##모델 fit\n",
        "model.fot(X_train, y_train)\n",
        "y_pred = model.predict(X_train)\n",
        "mae = mean_absolute_error(y_train, y_pred)\n",
        "print(f'훈련 에러: {mae:.2f}')"
      ],
      "metadata": {
        "id": "XUoa6xq75fRZ"
      },
      "execution_count": null,
      "outputs": []
    },
    {
      "cell_type": "code",
      "source": [
        "##테스트적용\n",
        "y_pred = model.predict(X_test)\n",
        "mae = mean_absolute_error(y_test, y_pred)\n",
        "print(f'테스트 에러: {mae:.2f}')"
      ],
      "metadata": {
        "id": "8RbftSSz57ly"
      },
      "execution_count": null,
      "outputs": []
    },
    {
      "cell_type": "code",
      "source": [
        "##############################################\n",
        "#####ridge regression 으로 해보기"
      ],
      "metadata": {
        "id": "WGaTdp6V6IEG"
      },
      "execution_count": null,
      "outputs": []
    },
    {
      "cell_type": "code",
      "source": [
        ""
      ],
      "metadata": {
        "id": "SBs5EglExP6u"
      },
      "execution_count": null,
      "outputs": []
    },
    {
      "cell_type": "code",
      "source": [
        "####################################################프로젝트 정리 코드\n",
        "\n",
        "import numpy as np\n",
        "from sklearn.model_selection import train_test_split\n",
        "\n",
        "y_target = df['금액(만원)']\n",
        "X_features = df.drop('금액(만원)', axis=1, inplace=False)    ##타겟 컬럼제외\n",
        "\n",
        "X_train, X_test, y_train, y_test = train_test_split(X_features, y_target, test_size=0.2)"
      ],
      "metadata": {
        "id": "CG1rSmNVIvk2"
      },
      "execution_count": null,
      "outputs": []
    },
    {
      "cell_type": "code",
      "source": [
        "df.dtypes"
      ],
      "metadata": {
        "id": "niQtnUHpvOmS"
      },
      "execution_count": null,
      "outputs": []
    },
    {
      "cell_type": "code",
      "source": [
        "from sklearn.metrics import mean_squared_error\n",
        "\n",
        "def get_rmse(model):\n",
        "    pred = model.predict(X_test)\n",
        "    mse = mean_squared_error(y_test , pred)\n",
        "    rmse = np.sqrt(mse)\n",
        "    print(model.__class__.__name__,np.round(rmse, 3))\n",
        "    return rmse\n",
        "\n",
        "def get_rmses(models):\n",
        "    rmses = []\n",
        "    for model in models:\n",
        "        rmse = get_rmse(model)\n",
        "        rmses.append(rmse)\n",
        "    return rmses"
      ],
      "metadata": {
        "id": "AP0IliThvweI"
      },
      "execution_count": null,
      "outputs": []
    },
    {
      "cell_type": "code",
      "source": [
        "from sklearn.linear_model import LinearRegression, Ridge, Lasso\n",
        "\n",
        "lr_reg = LinearRegression()\n",
        "lr_reg.fit(X_train, y_train)\n",
        "\n",
        "ridge_reg = Ridge()\n",
        "ridge_reg.fit(X_train, y_train)\n",
        "\n",
        "lasso_reg = Lasso()\n",
        "lasso_reg.fit(X_train, y_train)\n",
        "\n",
        "models = [lr_reg, ridge_reg, lasso_reg]\n",
        "get_rmses(models)"
      ],
      "metadata": {
        "id": "8mosZEDst7Pb"
      },
      "execution_count": null,
      "outputs": []
    },
    {
      "cell_type": "code",
      "source": [
        "visualize_coefficient(models)"
      ],
      "metadata": {
        "id": "v8f00yiEt099"
      },
      "execution_count": null,
      "outputs": []
    },
    {
      "cell_type": "code",
      "source": [
        "# cross_val_score\n",
        "\n",
        "get_avg_rmse_cv(models)"
      ],
      "metadata": {
        "id": "ajewX6uxwi_2"
      },
      "execution_count": null,
      "outputs": []
    },
    {
      "cell_type": "code",
      "source": [
        "# GridSearchCV\n",
        "\n",
        "ridge_params = {'alpha':[0.05, 0.1, 1, 5,8, 10, 12, 15, 20]}\n",
        "lasso_params = {'alpha':[0.001, 0.005, 0.008, 0.05, 0.03, 0.1, 0.5, 1, 5, 10]}\n",
        "\n",
        "get_best_params(ridge_reg, ridge_params)\n",
        "get_best_params(lasso_reg, lasso_params)"
      ],
      "metadata": {
        "id": "Pb20NV_jwn7_"
      },
      "execution_count": null,
      "outputs": []
    },
    {
      "cell_type": "code",
      "source": [
        "# train model with best alpha\n",
        "\n",
        "lr_reg = LinearRegression()\n",
        "lr_reg.fit(X_train, y_train)\n",
        "\n",
        "ridge_reg = Ridge(alpha=8)\n",
        "ridge_reg.fit(X_train, y_train)\n",
        "\n",
        "lasso_reg = Lasso(alpha=0.001)\n",
        "lasso_reg.fit(X_train, y_train)\n",
        "\n",
        "models = [lr_reg, ridge_reg, lasso_reg]\n",
        "get_rmses(models)\n",
        "visualize_coefficient(models)"
      ],
      "metadata": {
        "id": "KjrQJ4zMwuE3"
      },
      "execution_count": null,
      "outputs": []
    },
    {
      "cell_type": "code",
      "source": [
        "def get_rmse_pred(preds):\n",
        "    for key in preds.keys():\n",
        "        pred_value = preds[key]\n",
        "        mse = mean_squared_error(y_test, pred_value)\n",
        "        rmse = np.sqrt(mse)\n",
        "        print('{0} RMSE: {1}'.format(key, rmse))\n",
        "        \n",
        "ridge_reg = Ridge(alpha=8)\n",
        "ridge_reg.fit(X_train, y_train)\n",
        "\n",
        "lasso_reg = Lasso(alpha=0.001)\n",
        "lasso_reg.fit(X_train, y_train)\n",
        "\n",
        "ridge_pred = ridge_reg.predict(X_test)\n",
        "lasso_pred = lasso_reg.predict(X_test)\n",
        "\n",
        "pred = 0.2 * ridge_pred + 0.8 * lasso_pred\n",
        "preds = {'Final' : pred,\n",
        "        'Ridge' : ridge_pred,\n",
        "        'Lasso' : lasso_pred}\n",
        "\n",
        "get_rmse_pred(preds)"
      ],
      "metadata": {
        "id": "cV03kYCYw0pK"
      },
      "execution_count": null,
      "outputs": []
    },
    {
      "cell_type": "code",
      "source": [
        "from xgboost import XGBRegressor\n",
        "\n",
        "xgb_params = {'n_estimators':[1000]}\n",
        "xgb_reg = XGBRegressor(n_estimators=1000, learning_rate=0.05, colsample_bytree=0.5, subsample=0.8)\n",
        "get_best_params(xgb_reg, xgb_params)"
      ],
      "metadata": {
        "id": "LKL4xMuow3zi"
      },
      "execution_count": null,
      "outputs": []
    },
    {
      "cell_type": "code",
      "source": [
        "from lightgbm import LGBMRegressor\n",
        "\n",
        "lgbm_params = {'n_estimators':[1000]}\n",
        "lgbm_reg = LGBMRegressor(n_estimators=1000, learning_rate=0.05, num_leaves=4,\n",
        "                        subsample=0.6, colsample_bytree=0.4, reg_lambda=10, n_jobs=-1)\n",
        "get_best_params(lgbm_reg, lgbm_params)"
      ],
      "metadata": {
        "id": "keNpDFejw6wt"
      },
      "execution_count": null,
      "outputs": []
    },
    {
      "cell_type": "code",
      "source": [
        "# train model with best parameters\n",
        "\n",
        "best_xgb = get_best_params(xgb_reg, xgb_params)\n",
        "best_lgbm = get_best_params(lgbm_reg, lgbm_params)\n",
        "\n",
        "models = [best_xgb, best_lgbm]\n",
        "visualize_ftr_importances(models)"
      ],
      "metadata": {
        "id": "ZYE3pbImw-GF"
      },
      "execution_count": null,
      "outputs": []
    },
    {
      "cell_type": "code",
      "source": [
        ""
      ],
      "metadata": {
        "id": "qIcB6Q9BxKyK"
      },
      "execution_count": null,
      "outputs": []
    },
    {
      "cell_type": "code",
      "source": [
        "##def split_train_test(df, test_ratio):              함수로 테스트,트레이닝 나누기.\n",
        "##    shuffled_indices = np.random.permutation(len(df))\n",
        "##    test_set_size = int(len(df) * test_ratio)\n",
        "##    test_indices = shuffled_indices[:test_set_size]\n",
        "##    train_indices = shuffled_indices[test_set_size:]\n",
        "##    return data.iloc[train_indices], data.iloc[test_indices]"
      ],
      "metadata": {
        "id": "Mf3JC77XtsOl"
      },
      "execution_count": null,
      "outputs": []
    },
    {
      "cell_type": "code",
      "source": [
        "## df['계약'] = pd.concat([df['계약년월'], df['계약일']], axis=1)"
      ],
      "metadata": {
        "id": "XQOnZlUZZZqY"
      },
      "execution_count": null,
      "outputs": []
    },
    {
      "cell_type": "code",
      "source": [
        "### feature 평당 매매가격 추가하기.\n",
        "##외적요소 feature '학군, 역세권, 브랜드 인지도"
      ],
      "metadata": {
        "id": "4XnUCjVFfNlK"
      },
      "execution_count": null,
      "outputs": []
    }
  ]
}