{
  "nbformat": 4,
  "nbformat_minor": 0,
  "metadata": {
    "colab": {
      "name": "Untitled8.ipynb의 사본의 사본의 사본의 사본",
      "private_outputs": true,
      "provenance": [],
      "authorship_tag": "ABX9TyPy2U6c8kKyo2vf3EiDeMXB",
      "include_colab_link": true
    },
    "kernelspec": {
      "name": "python3",
      "display_name": "Python 3"
    },
    "language_info": {
      "name": "python"
    }
  },
  "cells": [
    {
      "cell_type": "markdown",
      "metadata": {
        "id": "view-in-github",
        "colab_type": "text"
      },
      "source": [
        "<a href=\"https://colab.research.google.com/github/limseo12/project/blob/main/Untitled8_ipynb%EC%9D%98_%EC%82%AC%EB%B3%B8%EC%9D%98_%EC%82%AC%EB%B3%B8%EC%9D%98_%EC%82%AC%EB%B3%B8%EC%9D%98_%EC%82%AC%EB%B3%B8.ipynb\" target=\"_parent\"><img src=\"https://colab.research.google.com/assets/colab-badge.svg\" alt=\"Open In Colab\"/></a>"
      ]
    },
    {
      "cell_type": "code",
      "execution_count": null,
      "metadata": {
        "id": "HzT8cjh2ZBmS"
      },
      "outputs": [],
      "source": [
        "import pandas as pd\n",
        "from google.colab import drive\n",
        "drive.mount('/content/gdrive')"
      ]
    },
    {
      "cell_type": "code",
      "source": [
        "df1 = pd.read_csv('/content/gdrive/MyDrive/project 아파트 매매가 데이터/아파트(매매)__실거래가_202001~.csv', encoding='cp949')\n",
        "df2 = pd.read_csv('/content/gdrive/MyDrive/project 아파트 매매가 데이터/아파트(매매)__실거래가_202101~202201.csv', encoding='cp949')\n",
        "df3 = pd.read_csv('/content/gdrive/MyDrive/project 아파트 매매가 데이터/아파트(매매)__실거래가_20220314151122.csv', encoding='cp949')\n",
        "df4 = pd.read_csv('/content/gdrive/MyDrive/project 아파트 매매가 데이터/아파트(매매)__실거래가_20220314151204.csv', encoding='cp949')\n",
        "df5 = pd.read_csv('/content/gdrive/MyDrive/project 아파트 매매가 데이터/아파트(매매)__실거래가_20220314151255.csv', encoding='cp949')\n",
        "df6 = pd.read_csv('/content/gdrive/MyDrive/project 아파트 매매가 데이터/아파트(매매)__실거래가_20220314151324.csv', encoding='cp949')\n",
        "df7 = pd.read_csv('/content/gdrive/MyDrive/project 아파트 매매가 데이터/아파트(매매)__실거래가_20220314151356.csv', encoding='cp949')\n",
        "df8 = pd.read_csv('/content/gdrive/MyDrive/project 아파트 매매가 데이터/아파트(매매)__실거래가_20220314151432.csv', encoding='cp949')\n",
        "df9 = pd.read_csv('/content/gdrive/MyDrive/project 아파트 매매가 데이터/아파트(매매)__실거래가_20220314151459.csv', encoding='cp949')\n",
        "df10 = pd.read_csv('/content/gdrive/MyDrive/project 아파트 매매가 데이터/아파트(매매)__실거래가_20220314151526.csv', encoding='cp949')\n",
        "df11 = pd.read_csv('/content/gdrive/MyDrive/project 아파트 매매가 데이터/아파트(매매)__실거래가_20220314151557.csv', encoding='cp949')\n",
        "df = pd.concat([df1, df2, df3, df4, df5, df6,df7,df8,df9,df10,df11])\n",
        "df.shape"
      ],
      "metadata": {
        "id": "nirbM4KfZHwh"
      },
      "execution_count": null,
      "outputs": []
    },
    {
      "cell_type": "code",
      "source": [
        "##나눔폰트 설치.\n",
        "!sudo apt-get install -y fonts-nanum\n",
        "!sudo fc-cache -fv\n",
        "!rm ~/.cache/matplotlib -rf\n",
        "\n",
        "##나눔폰트 지정\n",
        "import seaborn as sns\n",
        "import matplotlib.pyplot as plt\n",
        "plt.rc('font', family='NanumBarunGothic') "
      ],
      "metadata": {
        "id": "wwtIYQKU-Ce1"
      },
      "execution_count": null,
      "outputs": []
    },
    {
      "cell_type": "code",
      "source": [
        "#환경설정\n",
        "import numpy as np\n",
        "import pandas as pd\n",
        "from tqdm import tqdm\n",
        "from sklearn.linear_model import LinearRegression, ElasticNet, Lasso, Ridge\n",
        "from sklearn.tree import DecisionTreeRegressor\n",
        "from sklearn.ensemble import RandomForestRegressor\n",
        "from sklearn.preprocessing import  LabelEncoder\n",
        "from sklearn.model_selection import TimeSeriesSplit\n",
        "from sklearn.metrics import mean_squared_error\n",
        "import xgboost as xgb\n",
        "import lightgbm as lgb\n",
        "import re\n",
        "sns.set_theme(style=\"darkgrid\")"
      ],
      "metadata": {
        "id": "IfZDEazEFMy3"
      },
      "execution_count": null,
      "outputs": []
    },
    {
      "cell_type": "markdown",
      "source": [
        "# 전처리부분"
      ],
      "metadata": {
        "id": "U9kwvga2GeMn"
      }
    },
    {
      "cell_type": "code",
      "source": [
        "##전처리\n",
        "a = pd.Series(df['거래금액(만원)'])\n",
        "a = a.str.replace(',', '').astype('int64')\n",
        "df['실거래금액(만원)'] = a\n",
        "##필요없는 컬럼 드랍\n",
        "df = df.drop(['번지','본번','부번','거래금액(만원)','도로명','해제사유발생일','중개사소재지','거래유형'],axis=1)\n",
        "##시군구 에서 서울특별시 제거\n",
        "df['지역'] = df['시군구'].str[6:]\n",
        "##\n",
        "df.drop(['시군구'],axis=1)"
      ],
      "metadata": {
        "id": "GuomeDXWZMLC"
      },
      "execution_count": null,
      "outputs": []
    },
    {
      "cell_type": "code",
      "source": [
        "###전용면적 3.3으로 나누어 평으로 바꿔주기\n",
        "df['평수'] = (df['전용면적(㎡)']/3.3).round(1)"
      ],
      "metadata": {
        "id": "RsRVHz_jk2TO"
      },
      "execution_count": null,
      "outputs": []
    },
    {
      "cell_type": "code",
      "source": [
        "df"
      ],
      "metadata": {
        "id": "K8hWjVQBk-S9"
      },
      "execution_count": null,
      "outputs": []
    },
    {
      "cell_type": "code",
      "source": [
        "##컬럼순서변경, 이름변경\n",
        "df = df[['지역','단지명','전용면적(㎡)','평수','층','실거래금액(만원)','계약년월','계약일','건축년도']]\n",
        "df = df.rename(columns={'전용면적(㎡)':'전용면적','실거래금액(만원)':'거래금액(만원)','단지명':'아파트명'})"
      ],
      "metadata": {
        "id": "AltDRZb2ZTbz"
      },
      "execution_count": null,
      "outputs": []
    },
    {
      "cell_type": "code",
      "source": [
        "##타입 오류가 나서 다시한번 더 변경\n",
        "df = df.astype({'계약년월':'object'})\n",
        "df = df.astype({'계약일':'object'})\n",
        "df = df.astype({'층':'object'})\n",
        "df = df.astype({'지역':'object'})"
      ],
      "metadata": {
        "id": "nezYXTltknIl"
      },
      "execution_count": null,
      "outputs": []
    },
    {
      "cell_type": "code",
      "source": [
        "df['건축년도'].describe()"
      ],
      "metadata": {
        "id": "QZLM9S-X0wpN"
      },
      "execution_count": null,
      "outputs": []
    },
    {
      "cell_type": "code",
      "source": [
        "##특성추가.\n",
        "## pd.cut을 이용한 구축 준신축 신축 라벨링\n",
        "date = df['건축년도']\n",
        "bins = [0, 2012, 2017,2022]\n",
        "labels = ['구축', '준신축', '신축']\n",
        "df['노후도'] = pd.cut(date, bins, right=True, labels=labels)"
      ],
      "metadata": {
        "id": "fUTnsMTo_MCG"
      },
      "execution_count": null,
      "outputs": []
    },
    {
      "cell_type": "code",
      "source": [
        "##구축이 80만개...압도적으로 많은걸 알 수 있다.\n",
        "df['노후도'].value_counts()"
      ],
      "metadata": {
        "id": "QzQicgo_AU-h"
      },
      "execution_count": null,
      "outputs": []
    },
    {
      "cell_type": "code",
      "source": [
        "##데이터프레임 전체보기\n",
        "df.head()"
      ],
      "metadata": {
        "id": "Gv2-BY95p6GS"
      },
      "execution_count": null,
      "outputs": []
    },
    {
      "cell_type": "markdown",
      "source": [
        "# 상관관계 분석"
      ],
      "metadata": {
        "id": "-NGas3-3sdj4"
      }
    },
    {
      "cell_type": "code",
      "source": [
        "###라벨 인코더\n",
        "from sklearn.preprocessing import LabelEncoder\n",
        "\n",
        "le = LabelEncoder()\n",
        "le.fit(df['지역'])\n",
        "df['지역_le'] = le.transform(df['지역'])\n",
        "##아파트명\n",
        "le.fit(df['아파트명'])\n",
        "df['아파트명_le'] = le.transform(df['아파트명'])\n",
        "##평수\n",
        "le.fit(df['평수'])\n",
        "df['평수_le'] = le.transform(df['평수'])\n",
        "##층\n",
        "le.fit(df['층'])\n",
        "df['층_le'] = le.transform(df['층'])\n",
        "##건축년도\n",
        "le.fit(df['건축년도'])\n",
        "df['건축년도_le'] = le.transform(df['건축년도'])\n",
        "##노후도\n",
        "le.fit(df['노후도'])\n",
        "df['노후도_le'] = le.transform(df['노후도'])"
      ],
      "metadata": {
        "id": "3nCUUHa3TGss"
      },
      "execution_count": null,
      "outputs": []
    },
    {
      "cell_type": "code",
      "source": [
        "df.head(1000)"
      ],
      "metadata": {
        "id": "-2K5WGX-UNZK"
      },
      "execution_count": null,
      "outputs": []
    },
    {
      "cell_type": "code",
      "source": [
        "df_le = df.iloc[:,[10,11,12,13,14,15]]"
      ],
      "metadata": {
        "id": "aVDUvxHgVCB1"
      },
      "execution_count": null,
      "outputs": []
    },
    {
      "cell_type": "code",
      "source": [
        "df_le.head()"
      ],
      "metadata": {
        "id": "l8kpehgUWX6g"
      },
      "execution_count": null,
      "outputs": []
    },
    {
      "cell_type": "code",
      "source": [
        "sns.pairplot(df,y_vars=['거래금액(만원)'],x_vars=['지역', '평수', '층'])"
      ],
      "metadata": {
        "id": "rZAI57reu0ZP"
      },
      "execution_count": null,
      "outputs": []
    },
    {
      "cell_type": "code",
      "source": [
        "#correlation의 heatmap화\n",
        "df_cor_ic=df.corr()\n",
        "plt.figure(figsize=(30,2))\n",
        "sns.heatmap(df_cor_ic.loc[['거래금액(만원)'],:],annot=True,cmap=\"Accent\");"
      ],
      "metadata": {
        "id": "C7eHUcBDv2A7"
      },
      "execution_count": null,
      "outputs": []
    },
    {
      "cell_type": "markdown",
      "source": [
        "# 학습부분"
      ],
      "metadata": {
        "id": "zQ2MD57DGjQX"
      }
    },
    {
      "cell_type": "code",
      "source": [
        "##타겟데이터 살피기\n",
        "plt.figure()\n",
        "sns.displot(df['거래금액(만원)'], bins=30)\n",
        "plt.xlabel('Price(10000 won)')\n",
        "plt.title('거래금액')\n",
        "plt.show()"
      ],
      "metadata": {
        "id": "CG1rSmNVIvk2"
      },
      "execution_count": null,
      "outputs": []
    },
    {
      "cell_type": "code",
      "source": [
        "import numpy as np\n",
        "#가격의 분포가 매우 왼쪽으로 치우친 것을 확인할 수 있습니다.\n",
        "#타겟 변수의 이상치가 회귀모형을 사용한 예측에 큰 영향을 줄 수 있으니,\n",
        "#로그 변환으로 정규화한뒤, 나중에 다시 역변환\n",
        "# 가격 로그 변환 후 원래 가격 따로 저장\n",
        "df_le['log_price'] = np.log1p(df['거래금액(만원)'])\n",
        "real_price = df['거래금액(만원)'] # 원래 가격\n",
        "df.drop('거래금액(만원)', axis=1, inplace=True)"
      ],
      "metadata": {
        "id": "GAqSp4o5m_6T"
      },
      "execution_count": null,
      "outputs": []
    },
    {
      "cell_type": "code",
      "source": [
        "df_le.head()"
      ],
      "metadata": {
        "id": "Zjw0gQOdoD06"
      },
      "execution_count": null,
      "outputs": []
    },
    {
      "cell_type": "code",
      "source": [
        "#변환확인\n",
        "fig, (ax1, ax2) = plt.subplots(1,2,figsize=(12,6))\n",
        "\n",
        "ax1.hist(real_price, bins=30)\n",
        "ax1.set_title('Price Distribution')\n",
        "ax1.set_xlabel('Price')\n",
        "\n",
        "ax2.hist(df_le['log_price'], bins=30)\n",
        "ax2.set_title('Log Price Distribution')\n",
        "ax2.set_xlabel('Log Price')\n",
        "\n",
        "plt.show()"
      ],
      "metadata": {
        "id": "lIBUB1KcoI_R"
      },
      "execution_count": null,
      "outputs": []
    },
    {
      "cell_type": "code",
      "source": [
        "##나누기\n",
        "import numpy as np\n",
        "from sklearn.model_selection import train_test_split\n",
        "\n",
        "y_target = df_le['log_price']\n",
        "X_features = df_le.drop('log_price', axis=1, inplace=False)\n",
        "\n",
        "X_train, X_test, y_train, y_test = train_test_split(X_features, y_target, test_size=0.2)"
      ],
      "metadata": {
        "id": "ZX1ofKQIUovE"
      },
      "execution_count": null,
      "outputs": []
    },
    {
      "cell_type": "code",
      "source": [
        "#Set RMSLE Score\n",
        "def RMSE(y, y_pred):\n",
        "    rmse = mean_squared_error(y, y_pred) ** 0.5\n",
        "    return rmse\n",
        "\n",
        "def rmse_cv(model):\n",
        "    # cv별로 학습하는 함수\n",
        "    tscv = TimeSeriesSplit(n_splits=10)\n",
        "    rmse_list = []\n",
        "    model_name = model.__class__.__name__\n",
        "    for _, (train_index, test_index) in tqdm(enumerate(tscv.split(X_train), start=1), desc=f'{model_name} Cross Validations...', total=10):\n",
        "        \n",
        "        clf = model.fit(X_train, y_train)\n",
        "        pred = clf.predict(X_test)\n",
        "        rmse = RMSE(y_test, pred) \n",
        "        rmse_list.append(rmse)\n",
        "    return model_name, rmse_list\n",
        "\n",
        "def print_rmse_score(model):\n",
        "    # cv별 프린팅, 평균 저장\n",
        "    model_name, score = rmse_cv(model)\n",
        "    for i, r in enumerate(score, start=1):\n",
        "        print(f'{i} FOLDS: {model_name} RMSLE: {r:.4f}')\n",
        "    print(f'\\n{model_name} mean RMSLE: {np.mean(score):.4f}')\n",
        "    print('='*40)\n",
        "    return model_name, np.mean(score)"
      ],
      "metadata": {
        "id": "WQs4MMtIBzrg"
      },
      "execution_count": null,
      "outputs": []
    },
    {
      "cell_type": "code",
      "source": [
        "#모델 정의하기. liniear, ridge, lasso, elasticNet, DecisionTreeRegressor, Randomforestregressor , xgbreggressor, lgbmregressor\n",
        "reg = LinearRegression(n_jobs=-1)\n",
        "ridge = Ridge(alpha=0.8, random_state=1)\n",
        "lasso = Lasso(alpha = 0.01, random_state=1)\n",
        "Enet = ElasticNet(alpha=0.03, l1_ratio=0.01, random_state=1)\n",
        "DTree = DecisionTreeRegressor(max_depth=6, min_samples_split=10, min_samples_leaf=15, random_state=1)\n",
        "rf = RandomForestRegressor(n_estimators=500, criterion='mse', max_depth=9, min_samples_split=50,\n",
        "                           min_samples_leaf=5, random_state=1, n_jobs=-1)\n",
        "model_xgb = xgb.XGBRegressor(n_estimators=500, max_depth=9, min_child_weight=5, gamma=0.1, n_jobs=-1)\n",
        "model_lgb = lgb.LGBMRegressor(n_estimators=500, max_depth=9, min_child_weight=5, n_jobs=-1)"
      ],
      "metadata": {
        "id": "yvp2fzQbB8cL"
      },
      "execution_count": null,
      "outputs": []
    },
    {
      "cell_type": "code",
      "source": [
        "##성능테스트\n",
        "models = []\n",
        "scores = []\n",
        "for model in [reg, ridge, lasso, Enet, DTree, rf, model_xgb, model_lgb]:\n",
        "    model_name, mean_score = print_rmse_score(model)\n",
        "    models.append(model_name)\n",
        "    scores.append(mean_score)"
      ],
      "metadata": {
        "id": "Xs8ZHvdOCNv9"
      },
      "execution_count": null,
      "outputs": []
    },
    {
      "cell_type": "code",
      "source": [
        "#모델결정\n",
        "result_df = pd.DataFrame({'Model': models, 'Score': scores}).reset_index(drop=True)\n",
        "result_df"
      ],
      "metadata": {
        "id": "AA-uX5ZYCWkp"
      },
      "execution_count": null,
      "outputs": []
    },
    {
      "cell_type": "code",
      "source": [
        "#그래프\n",
        "f, ax = plt.subplots(figsize=(10, 6))\n",
        "plt.xticks(rotation='90')\n",
        "sns.barplot(x=result_df['Model'], y=result_df['Score'])\n",
        "plt.xlabel('Models', fontsize=15)\n",
        "plt.ylabel('Model Performance', fontsize=15)\n",
        "plt.ylim(0.22, 0.32)\n",
        "plt.title('RMSLE', fontsize=15)\n",
        "plt.show()"
      ],
      "metadata": {
        "id": "8v4Ll5eBCc3R"
      },
      "execution_count": null,
      "outputs": []
    },
    {
      "cell_type": "code",
      "source": [
        "print(X_test)"
      ],
      "metadata": {
        "id": "fOJguNCJKTe_"
      },
      "execution_count": null,
      "outputs": []
    },
    {
      "cell_type": "code",
      "source": [
        "##파라미터 튜닝전 코랩은 설치해줘야함(import optuna)\n",
        "!pip install 'package_name'\n",
        "!pip install geopandas"
      ],
      "metadata": {
        "id": "mIBN1biyMSXY"
      },
      "execution_count": null,
      "outputs": []
    },
    {
      "cell_type": "code",
      "source": [
        "#Hyperparameter Tuning\n",
        "cut = int(len(X_train)*0.8)\n",
        "h_train = X_train[:cut]\n",
        "h_valid = X_train[cut:]\n",
        "\n",
        "h_train_X = X_train\n",
        "h_train_y = y_train\n",
        "h_valid_X = X_test\n",
        "h_valid_y = y_test\n",
        "print(h_train_X.shape, h_train_y.shape, h_valid_X.shape, h_valid_y.shape)"
      ],
      "metadata": {
        "id": "FGM-zH9JCiTl"
      },
      "execution_count": null,
      "outputs": []
    },
    {
      "cell_type": "code",
      "source": [
        "h_train_X.head()"
      ],
      "metadata": {
        "id": "6R9RT_wqK9pX"
      },
      "execution_count": null,
      "outputs": []
    },
    {
      "cell_type": "code",
      "source": [
        "#오류남\n",
        "import optuna\n",
        "from optuna.samplers import TPESampler\n",
        "\n",
        "sampler = TPESampler(seed=10)\n",
        "\n",
        "def objective(trial):\n",
        "    dtrain = lgb.Dataset(h_train_X, label=h_train_y)\n",
        "    dtest = lgb.Dataset(h_valid_X, label=h_valid_y)\n",
        "\n",
        "    param = {\n",
        "        'objective': 'regression', # 회귀\n",
        "        'verbose': -1,\n",
        "        'metric': 'rmse', \n",
        "        'max_depth': trial.suggest_int('max_depth',3, 15),\n",
        "        'learning_rate': trial.suggest_loguniform(\"learning_rate\", 1e-8, 1e-2),\n",
        "        'n_estimators': trial.suggest_int('n_estimators', 100, 3000),\n",
        "        'min_child_samples': trial.suggest_int('min_child_samples', 5, 100),\n",
        "        'subsample': trial.suggest_loguniform('subsample', 0.4, 1),\n",
        "    }\n",
        "\n",
        "    model = lgb.LGBMRegressor(**param)\n",
        "    lgb_model = model.fit(h_train_X, h_train_y, eval_set=[(h_valid_X, h_valid_y)], verbose=0, early_stopping_rounds=25)\n",
        "    rmse = RMSE(h_valid_y, lgb_model.predict(h_valid_X))\n",
        "    return rmse\n",
        "        \n",
        "study_lgb = optuna.create_study(direction='minimize', sampler=sampler)\n",
        "study_lgb.optimize(objective, n_trials=100)"
      ],
      "metadata": {
        "id": "80hjbtDSLA0_"
      },
      "execution_count": null,
      "outputs": []
    },
    {
      "cell_type": "code",
      "source": [
        "trial = study_lgb.best_trial\n",
        "trial_params = trial.params\n",
        "print('Best Trial: score {},\\nparams {}'.format(trial.value, trial_params))"
      ],
      "metadata": {
        "id": "WMn-H3aPLKTI"
      },
      "execution_count": null,
      "outputs": []
    },
    {
      "cell_type": "code",
      "source": [
        "##LightGBM Submission\n",
        "##test 셋을 이용하여 확인해보자."
      ],
      "metadata": {
        "id": "J1-x_cVVLNYP"
      },
      "execution_count": null,
      "outputs": []
    },
    {
      "cell_type": "code",
      "source": [
        "X_train.head()"
      ],
      "metadata": {
        "id": "q0AKf6ymLUEy"
      },
      "execution_count": null,
      "outputs": []
    },
    {
      "cell_type": "code",
      "source": [
        "final_lgb_model = lgb.LGBMRegressor(**trial_params)\n",
        "final_lgb_model.fit(X_train, y_train)\n",
        "final_lgb_pred = final_lgb_model.predict(X_test)"
      ],
      "metadata": {
        "id": "zQc09pz-Lh36"
      },
      "execution_count": null,
      "outputs": []
    },
    {
      "cell_type": "code",
      "source": [
        "final_lgb_pred"
      ],
      "metadata": {
        "id": "FGVd_TolLiZc"
      },
      "execution_count": null,
      "outputs": []
    },
    {
      "cell_type": "code",
      "source": [
        "plt.barh(train_X.columns, final_lgb_model.feature_importances_)"
      ],
      "metadata": {
        "id": "FqG1XVsALlgT"
      },
      "execution_count": null,
      "outputs": []
    },
    {
      "cell_type": "code",
      "source": [
        "##가격을 다시 역변환합니다.\n",
        "final_pred_sub = np.expm1(final_lgb_pred)\n",
        "final_pred_sub"
      ],
      "metadata": {
        "id": "IiOZHgMfLnyW"
      },
      "execution_count": null,
      "outputs": []
    },
    {
      "cell_type": "code",
      "source": [
        "sub = pd.read_csv('./input/test.csv')\n",
        "sub_df = pd.DataFrame({'transaction_id': sub['transaction_id'], 'transaction_real_price': final_pred_sub})\n",
        "sub_df"
      ],
      "metadata": {
        "id": "S34RuBgcLuTF"
      },
      "execution_count": null,
      "outputs": []
    },
    {
      "cell_type": "code",
      "source": [
        "sub_df.to_csv('submission_lgb.csv', index=False)"
      ],
      "metadata": {
        "id": "NEC7rEYkLzMX"
      },
      "execution_count": null,
      "outputs": []
    }
  ]
}