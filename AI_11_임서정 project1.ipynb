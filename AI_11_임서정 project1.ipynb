{
  "nbformat": 4,
  "nbformat_minor": 0,
  "metadata": {
    "colab": {
      "name": "Untitled4.ipynb의 사본의 사본",
      "private_outputs": true,
      "provenance": [],
      "collapsed_sections": []
    },
    "kernelspec": {
      "name": "python3",
      "display_name": "Python 3"
    },
    "language_info": {
      "name": "python"
    }
  },
  "cells": [
    {
      "cell_type": "code",
      "execution_count": null,
      "metadata": {
        "id": "nIoxipzb2mky"
      },
      "outputs": [],
      "source": [
        "from google.colab import files\n",
        "myfile = files.upload()"
      ]
    },
    {
      "cell_type": "code",
      "source": [
        "import io\n",
        "import pandas as pd\n",
        "import numpy as np\n",
        "import seaborn as sns\n",
        "from matplotlib import pyplot as plt\n",
        "df = pd.read_csv(io.BytesIO(myfile['vgames2.csv']))"
      ],
      "metadata": {
        "id": "MsC9m-5e2x9-"
      },
      "execution_count": null,
      "outputs": []
    },
    {
      "cell_type": "code",
      "source": [
        "##타입확인 Year빼고 전부 object 타입.\n",
        "df.dtypes"
      ],
      "metadata": {
        "id": "1HCCccxK2HYK"
      },
      "execution_count": null,
      "outputs": []
    },
    {
      "cell_type": "code",
      "source": [
        "##결측치 확인.\n",
        "\n",
        "df.isnull().sum()"
      ],
      "metadata": {
        "id": "ovNaxmS_3KNA"
      },
      "execution_count": null,
      "outputs": []
    },
    {
      "cell_type": "code",
      "source": [
        "##결측치확인\n",
        "df['Year'].isnull()"
      ],
      "metadata": {
        "id": "GXRX6aIJD_Hv"
      },
      "execution_count": null,
      "outputs": []
    },
    {
      "cell_type": "code",
      "source": [
        "##행이 너무 많아 결측치 행만 확인\n",
        "df['Year'][df['Year'].isnull()]\n",
        "\n",
        "## df['Genre'][df['Genre'].isnull()]\n",
        "## df['Publisher'][df['Publisher'].isnull()]"
      ],
      "metadata": {
        "id": "UdBgaczq42Q-"
      },
      "execution_count": null,
      "outputs": []
    },
    {
      "cell_type": "code",
      "source": [
        "##0번째 컬럼 제거\n",
        "df.drop(df.columns[0], axis = 1 , inplace = True)\n",
        "##NNaN값 행들 제거 데이터 크기에 비해 결측값이 적어 그냥 제거\n",
        "df = df.dropna()"
      ],
      "metadata": {
        "id": "Hm5yC2iChwad"
      },
      "execution_count": null,
      "outputs": []
    },
    {
      "cell_type": "code",
      "source": [
        "df.head(20)\n",
        "##확인해보니 Sales의 단위들이 맞지않음\n",
        "##year가 플롯 타입 이여서 .0이 보임"
      ],
      "metadata": {
        "id": "_HK8T3_HDYIz"
      },
      "execution_count": null,
      "outputs": []
    },
    {
      "cell_type": "code",
      "source": [
        "#k 가 들어가 있는행을 살려 *0.001 로해 m단위로 변경하려 했지만 비교결과 전체 데이터에 비해 상대적으로 행이 많지 않아 그냥 드랍시켜도 오차는 미미했음\n",
        "# 지역별 Sales 드랍\n",
        "drop_values = ['M','K']\n",
        "df = df[~df['NA_Sales'].str.contains('|'.join(drop_values))]\n",
        "df = df[~df['EU_Sales'].str.contains('|'.join(drop_values))]\n",
        "df = df[~df['JP_Sales'].str.contains('|'.join(drop_values))]\n",
        "df = df[~df['Other_Sales'].str.contains('|'.join(drop_values))]\n",
        "df"
      ],
      "metadata": {
        "id": "XB7glY4UImbp"
      },
      "execution_count": null,
      "outputs": []
    },
    {
      "cell_type": "code",
      "source": [
        "##타입변경\n",
        "df['NA_Sales'] = pd.to_numeric(df['NA_Sales'])\n",
        "df['EU_Sales'] = pd.to_numeric(df['EU_Sales'])\n",
        "df['JP_Sales'] = pd.to_numeric(df['JP_Sales'])\n",
        "df['Other_Sales'] = pd.to_numeric(df['Other_Sales'])\n",
        "\n",
        "df.info()"
      ],
      "metadata": {
        "id": "SvDLTjMuFsI-"
      },
      "execution_count": null,
      "outputs": []
    },
    {
      "cell_type": "code",
      "source": [
        "#년도별 게임 트렌드를 위한 Year 전처리\n",
        "def year(x):\n",
        "  if (x >= 0) & (x < 20):\n",
        "    return int(2000 + x)\n",
        "  elif (x > 30) & (x < 1000):\n",
        "    return int(1900 + x)\n",
        "  else:\n",
        "    return int(x)\n",
        "\n",
        "df['Year'] = df['Year'].apply(year)\n",
        "df"
      ],
      "metadata": {
        "id": "Q3plHZq4Pcc3"
      },
      "execution_count": null,
      "outputs": []
    },
    {
      "cell_type": "code",
      "source": [
        "##바뀐타입확인\n",
        "df.dtypes"
      ],
      "metadata": {
        "id": "MqDP7XKW2bQj"
      },
      "execution_count": null,
      "outputs": []
    },
    {
      "cell_type": "code",
      "source": [
        "# Sales 모두 합친 컬럼생성 전체 출고량\n",
        "df['Total_Sales'] = df['NA_Sales']+df['EU_Sales']+df['JP_Sales']+df['Other_Sales']"
      ],
      "metadata": {
        "id": "GuZfDON8PwHa"
      },
      "execution_count": null,
      "outputs": []
    },
    {
      "cell_type": "code",
      "source": [
        "#지역별 장르\n",
        "\n",
        "df_genre_NA = df.groupby(['Genre'])['NA_Sales'].sum()\n",
        "df_genre_EU = df.groupby(['Genre'])['EU_Sales'].sum()\n",
        "df_genre_JP = df.groupby(['Genre'])['JP_Sales'].sum()\n",
        "df_genre_Other = df.groupby(['Genre'])['Other_Sales'].sum()\n",
        "df_genre_Total = df.groupby(by=['Genre'])['Total_Sales'].sum()\n",
        "df_genre = pd.DataFrame()\n",
        "df_genre = df_genre.append(df_genre_NA)\n",
        "df_genre = df_genre.append(df_genre_EU)\n",
        "df_genre = df_genre.append(df_genre_JP)\n",
        "df_genre = df_genre.append(df_genre_Other)\n",
        "df_genre = df_genre.append(df_genre_Total)\n",
        "df_genre = df_genre.T\n",
        "df_genre"
      ],
      "metadata": {
        "id": "8EH4HIFLDIvo"
      },
      "execution_count": null,
      "outputs": []
    },
    {
      "cell_type": "code",
      "source": [
        "###지역별 매출량 시각화\n",
        "sns.set(style='darkgrid')\n",
        "plt.figure(figsize=(15, 10))\n",
        "plt.title(\"local_sales\", fontsize=30)\n",
        "plt.xlabel(\"Genrne\", fontsize=20)\n",
        "plt.ylabel(\"sales\", fontsize=20)\n",
        "\n",
        "sns.lineplot(data=df_genre, markers=True);"
      ],
      "metadata": {
        "id": "P3mQk2LlHG2u"
      },
      "execution_count": null,
      "outputs": []
    },
    {
      "cell_type": "code",
      "source": [
        "## 1위는 액션, 2위는 스포츠, 3위는 슈팅이다.\n",
        "## 특이사항으로는 일본 지역만 롤플레잉이 1위이다."
      ],
      "metadata": {
        "id": "J_ojNFK6HvO8"
      },
      "execution_count": null,
      "outputs": []
    },
    {
      "cell_type": "code",
      "source": [
        "#카이제곱검정 독립변수(장르) 종속변수 (국가별 판매량)\n",
        "##귀무가설 : 비율 차이가 없다. (=지역마다 선호하는 장르가 같다.)\n",
        "from scipy.stats import chi2_contingency\n",
        "chi2_val, p, dof, expected= chi2_contingency(df_genre, correction=False)\n",
        "if(p<0.05) : \n",
        "    print('p value:'+'귀무가설 기각. 지역마다 선호하는 장르가 다름.')\n",
        "else :\n",
        "    print('p value:'+'귀무가설 기각 못함. 지역마다 선호하는 장르 같음.')"
      ],
      "metadata": {
        "id": "1SbtHb8Q0wEt"
      },
      "execution_count": null,
      "outputs": []
    },
    {
      "cell_type": "code",
      "source": [
        "##연도별 장르합\n",
        "df_year_sale = df.groupby(by=['Year', 'Genre'])['Total_Sales'].sum().reset_index()\n",
        "year_sale = df_year_sale.groupby(by=['Year'])['Total_Sales'].transform(max) == df_year_sale['Total_Sales']\n",
        "year_sale_max = df_year_sale[year_sale].reset_index(drop=True)\n",
        "\n",
        "genre = year_sale_max['Genre']\n",
        "\n",
        "plt.figure(figsize=(30, 18))\n",
        "g = sns.barplot(x='Year', y='Total_Sales', data=year_sale_max)\n",
        "index = 0\n",
        "for value in year_sale_max['Total_Sales']:\n",
        "    g.text(index, value + 1, str(genre[index] + '-' +str(round(value, 2))), color='#000', size=20, rotation= 90, ha=\"center\")\n",
        "    index += 1\n",
        "\n",
        "plt.title(\"Yearly game trends\", fontsize=30)\n",
        "plt.xlabel(\"Year\", fontsize=20)\n",
        "plt.ylabel(\"Total sales volume\", fontsize=20)\n",
        "\n",
        "plt.xticks(rotation=90)\n",
        "plt.show()"
      ],
      "metadata": {
        "id": "eMreO6HhF7Ra"
      },
      "execution_count": null,
      "outputs": []
    },
    {
      "cell_type": "code",
      "source": [
        "## 2000년 까지는 대체적으로 매년 다양하게 수요가 있었다.\n",
        "## 2001년 부터 액션게임의 수요가 매우높다\n",
        "## 2006년과 2009년에는 스포츠장르의 수요가 액션 장르를 이겼다"
      ],
      "metadata": {
        "id": "ZKYaqmr6Lz6K"
      },
      "execution_count": null,
      "outputs": []
    },
    {
      "cell_type": "code",
      "source": [
        "## 최근 트렌드를 분석하기위해 2010년 이후의 데이터 100개로 출고량이 많았던 플랫폼과 장르를 조사해보았다.\n",
        "##sales_100\n",
        "sales_100 = df[df.Year > 2010].sort_values(by='Total_Sales' ,ascending=False)\n",
        "sales_100 = sales_100.head(100).reset_index(drop=True)\n",
        "sales_100"
      ],
      "metadata": {
        "id": "pw9SqBlxSoBs"
      },
      "execution_count": null,
      "outputs": []
    },
    {
      "cell_type": "code",
      "source": [
        "# Platform 100 그래프\n",
        "platform_100 = sales_100.groupby(['Platform'])['Total_Sales'].sum().reset_index()\n",
        "platform1 = platform_100['Platform'].values\n",
        "plt.figure(figsize=(15, 10))\n",
        "platform_sales_100 = sns.barplot(x ='Total_Sales', y='Platform', data=platform_100)\n",
        "cnt = 0\n",
        "for value in platform_100['Total_Sales']:\n",
        "    platform_sales_100.text(x=value + 5, y=cnt, s=str(round(value,2)),\n",
        "            color='black', size=10)\n",
        "    cnt+=1\n",
        "plt.title(\"platform_sales 100\", fontsize=30)\n",
        "plt.xlabel('sales', fontsize=20)\n",
        "plt.ylabel('platform', fontsize=20)\n",
        "plt.show()"
      ],
      "metadata": {
        "id": "A1i9H-u4UKq3"
      },
      "execution_count": null,
      "outputs": []
    },
    {
      "cell_type": "code",
      "source": [
        "# 최근 10년간 출고량이 많았던 플랫폼은 PS3,X360,ps4이다."
      ],
      "metadata": {
        "id": "AHYUsvUxUfSj"
      },
      "execution_count": null,
      "outputs": []
    },
    {
      "cell_type": "code",
      "source": [
        "# Genre100 그래프\n",
        "genre_100 = sales_100.groupby(['Genre'])['Total_Sales'].sum().reset_index()\n",
        "genre = genre_100['Genre'].values\n",
        "plt.figure(figsize=(10, 10))\n",
        "genre_sales_100 = sns.barplot(x ='Total_Sales', y='Genre', data=genre_100)\n",
        "cnt = 0\n",
        "for value in genre_100['Total_Sales']:\n",
        "    genre_sales_100.text(x=value + 5, y=cnt, s=str(round(value,2)),\n",
        "            color='black', size=10)\n",
        "    cnt+=1\n",
        "plt.title('genre_sales 100', fontsize=30)\n",
        "plt.xlabel('sales', fontsize=30)\n",
        "plt.ylabel('genre', fontsize=30)\n",
        "plt.show()"
      ],
      "metadata": {
        "id": "5xlyc2YOUUVS"
      },
      "execution_count": null,
      "outputs": []
    },
    {
      "cell_type": "code",
      "source": [
        "# 최근 10년간 출고량이 많았던 장르는 Shooter,Action,Role=Playing 이다."
      ],
      "metadata": {
        "id": "kRR9_gq2UQCU"
      },
      "execution_count": null,
      "outputs": []
    },
    {
      "cell_type": "code",
      "source": [
        "##문득 100개를 하던 도중 1000개로 하면 결과가 달라질것 같은 생각이 들어서 1000개로 해보았다.\n",
        "sales_1000 = df[df.Year > 2010].sort_values(by='Total_Sales' ,ascending=False)\n",
        "sales_1000 = sales_1000.head(1000).reset_index(drop=True)\n",
        "sales_1000"
      ],
      "metadata": {
        "id": "uEt6PHFtTTAU"
      },
      "execution_count": null,
      "outputs": []
    },
    {
      "cell_type": "code",
      "source": [
        "# top1000 Platform 그래프\n",
        "platform_1000 = sales_1000.groupby(['Platform'])['Total_Sales'].sum().reset_index()\n",
        "platform2 = platform_1000['Platform'].values\n",
        "plt.figure(figsize=(10, 10))\n",
        "platform_sales_1000 = sns.barplot(x ='Total_Sales', y='Platform', data=platform_1000)\n",
        "cnt = 0\n",
        "for value in platform_1000['Total_Sales']:\n",
        "    platform_sales_1000.text(x=value + 5, y=cnt, s=str(round(value,2)),\n",
        "            color='black', size=10)\n",
        "    cnt+=1\n",
        "plt.title('platform_sales 1000', fontsize=30)\n",
        "plt.xlabel('sales', fontsize=30)\n",
        "plt.ylabel('platform', fontsize=30)\n",
        "plt.show()"
      ],
      "metadata": {
        "id": "dgSt2eG5UZJ2"
      },
      "execution_count": null,
      "outputs": []
    },
    {
      "cell_type": "code",
      "source": [
        "##플랫폼은 변화가없다."
      ],
      "metadata": {
        "id": "gwvp5vEiV0ZU"
      },
      "execution_count": null,
      "outputs": []
    },
    {
      "cell_type": "code",
      "source": [
        "# Genre1000 그래프\n",
        "genre_1000 = sales_1000.groupby(['Genre'])['Total_Sales'].sum().reset_index()\n",
        "genre2 = genre_1000['Genre'].values\n",
        "plt.figure(figsize=(10, 10))\n",
        "genre_sales_1000 = sns.barplot(x ='Total_Sales', y='Genre', data=genre_1000)\n",
        "cnt = 0\n",
        "for value in genre_1000['Total_Sales']:\n",
        "    genre_sales_1000.text(x=value + 5, y=cnt, s=str(round(value,2)),\n",
        "            color='black', size=10)\n",
        "    cnt+=1\n",
        "plt.title('genre_sales 1000', fontsize=30)\n",
        "plt.xlabel('sales', fontsize=30)\n",
        "plt.ylabel('genre', fontsize=30)\n",
        "plt.show()"
      ],
      "metadata": {
        "id": "0Ty4Q1ryVAQN"
      },
      "execution_count": null,
      "outputs": []
    },
    {
      "cell_type": "code",
      "source": [
        "## 장르는 변화가 있었다. 100개로 하였을 때에는 1. 슈팅 2. 액션 3.롤플레잉 이였으나\n",
        "## 1000개로 하였을 때에는 1.액션 2. 슈팅 3.스포츠 였다. 그리하여 데이터가 더 많으면 어떨까 싶어 최근 2010년 이후의 데이터들이 몇개가 있을까 보았더니"
      ],
      "metadata": {
        "id": "txBu1Wb8V6cl"
      },
      "execution_count": null,
      "outputs": []
    },
    {
      "cell_type": "code",
      "source": [
        "sales_2010 = df[df.Year > 2010].sort_values(by='Total_Sales' ,ascending=False)\n",
        "sales_2010 = sales_2010.reset_index(drop=True)\n",
        "sales_2010"
      ],
      "metadata": {
        "id": "okPLXMjZWZTF"
      },
      "execution_count": null,
      "outputs": []
    },
    {
      "cell_type": "code",
      "source": [
        "##처음에 drop한 데이터를 빼고 3685개가 있었다 그리하여 3685개를 다 넣어봤다."
      ],
      "metadata": {
        "id": "uUZpWt2fXA7c"
      },
      "execution_count": null,
      "outputs": []
    },
    {
      "cell_type": "code",
      "source": [
        "##sales_all\n",
        "sales_all = df[df.Year > 2010].sort_values(by='Total_Sales' ,ascending=False)\n",
        "sales_all = sales_all.reset_index(drop=True)"
      ],
      "metadata": {
        "id": "UwRl0fUCXHBH"
      },
      "execution_count": null,
      "outputs": []
    },
    {
      "cell_type": "code",
      "source": [
        "# Platform all 그래프\n",
        "platform_all = sales_all.groupby(['Platform'])['Total_Sales'].sum().reset_index()\n",
        "platform3 = platform_all['Platform'].values\n",
        "plt.figure(figsize=(15, 10))\n",
        "platform_sales_all = sns.barplot(x ='Total_Sales', y='Platform', data=platform_all)\n",
        "cnt = 0\n",
        "for value in platform_all['Total_Sales']:\n",
        "    platform_sales_all.text(x=value + 5, y=cnt, s=str(round(value,2)),\n",
        "            color='black', size=10)\n",
        "    cnt+=1\n",
        "plt.title('platform_sales all', fontsize=30)\n",
        "plt.xlabel('sales', fontsize=30)\n",
        "plt.ylabel('platform', fontsize=30)\n",
        "plt.show()"
      ],
      "metadata": {
        "id": "_gWJ0qsQXRY2"
      },
      "execution_count": null,
      "outputs": []
    },
    {
      "cell_type": "code",
      "source": [
        "##플랫폼은 1000과 비교했을때 별차이 없지만 3DS가 3위의 PS4를 바짝 추격하였다."
      ],
      "metadata": {
        "id": "-OK4udRGY8ZP"
      },
      "execution_count": null,
      "outputs": []
    },
    {
      "cell_type": "code",
      "source": [
        "# Genre_all 그래프\n",
        "genre_all = sales_all.groupby(['Genre'])['Total_Sales'].sum().reset_index()\n",
        "genre3 = genre_all['Genre'].values\n",
        "plt.figure(figsize=(15, 10))\n",
        "genre_sales_all = sns.barplot(x ='Total_Sales', y='Genre', data=genre_all)\n",
        "cnt = 0\n",
        "for value in genre_all['Total_Sales']:\n",
        "    genre_sales_all.text(x=value + 5, y=cnt, s=str(round(value,2)),\n",
        "            color='black', size=10)\n",
        "    cnt+=1\n",
        "plt.title('genre_sales all', fontsize=30)\n",
        "plt.xlabel('sales', fontsize=30)\n",
        "plt.ylabel('genre', fontsize=30)\n",
        "plt.show()"
      ],
      "metadata": {
        "id": "BjNVuNzOXabV"
      },
      "execution_count": null,
      "outputs": []
    },
    {
      "cell_type": "code",
      "source": [
        "##1위가 액션으로 압도적으로 높았고 2위가 슈팅으로 높았다 3위도 스포츠로 장르1000과 별차이없지만 롤플레잉이 3위 스포츠와 비슷할정도로 많이 늘어났다."
      ],
      "metadata": {
        "id": "s8CZRj_7YSut"
      },
      "execution_count": null,
      "outputs": []
    },
    {
      "cell_type": "markdown",
      "source": [
        ""
      ],
      "metadata": {
        "id": "-BRyFHyc7PxY"
      }
    },
    {
      "cell_type": "code",
      "source": [
        "## 다음 게임은 어떤 특성을 가져야 할까?\n",
        "## 플랫폼:  PS3, PS4, X360\n",
        "\n",
        "## 장르:  액션, 슈팅, 스포츠\n",
        "\n",
        "## 지역:  남미, 유럽\n",
        "\n",
        "##으로 결론이 났습니다~"
      ],
      "metadata": {
        "id": "iaAyhWq6bHPl"
      },
      "execution_count": null,
      "outputs": []
    }
  ]
}